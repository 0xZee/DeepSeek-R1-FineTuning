{
  "nbformat": 4,
  "nbformat_minor": 0,
  "metadata": {
    "colab": {
      "provenance": [],
      "gpuType": "T4",
      "authorship_tag": "ABX9TyMsqmhSmb8Mu5TOeol/FxBF",
      "include_colab_link": true
    },
    "kernelspec": {
      "name": "python3",
      "display_name": "Python 3"
    },
    "language_info": {
      "name": "python"
    },
    "accelerator": "GPU",
    "widgets": {
      "application/vnd.jupyter.widget-state+json": {
        "92acf1c129954bca924102ab7488be37": {
          "model_module": "@jupyter-widgets/controls",
          "model_name": "HBoxModel",
          "model_module_version": "1.5.0",
          "state": {
            "_dom_classes": [],
            "_model_module": "@jupyter-widgets/controls",
            "_model_module_version": "1.5.0",
            "_model_name": "HBoxModel",
            "_view_count": null,
            "_view_module": "@jupyter-widgets/controls",
            "_view_module_version": "1.5.0",
            "_view_name": "HBoxView",
            "box_style": "",
            "children": [
              "IPY_MODEL_5d83b9269f674005b9faf63f248d123a",
              "IPY_MODEL_d5d256a6dc81413e979bd756d75d99e3",
              "IPY_MODEL_760a50cb7f9044378e49d3d43e8bcb23"
            ],
            "layout": "IPY_MODEL_add3eeccf6794671b8956bd2b1c0bfd9"
          }
        },
        "5d83b9269f674005b9faf63f248d123a": {
          "model_module": "@jupyter-widgets/controls",
          "model_name": "HTMLModel",
          "model_module_version": "1.5.0",
          "state": {
            "_dom_classes": [],
            "_model_module": "@jupyter-widgets/controls",
            "_model_module_version": "1.5.0",
            "_model_name": "HTMLModel",
            "_view_count": null,
            "_view_module": "@jupyter-widgets/controls",
            "_view_module_version": "1.5.0",
            "_view_name": "HTMLView",
            "description": "",
            "description_tooltip": null,
            "layout": "IPY_MODEL_9c1031f1108249f18d6f62ff930b1db1",
            "placeholder": "​",
            "style": "IPY_MODEL_503b3fec346242b9a439e23a19fd73dd",
            "value": "Filter: 100%"
          }
        },
        "d5d256a6dc81413e979bd756d75d99e3": {
          "model_module": "@jupyter-widgets/controls",
          "model_name": "FloatProgressModel",
          "model_module_version": "1.5.0",
          "state": {
            "_dom_classes": [],
            "_model_module": "@jupyter-widgets/controls",
            "_model_module_version": "1.5.0",
            "_model_name": "FloatProgressModel",
            "_view_count": null,
            "_view_module": "@jupyter-widgets/controls",
            "_view_module_version": "1.5.0",
            "_view_name": "ProgressView",
            "bar_style": "success",
            "description": "",
            "description_tooltip": null,
            "layout": "IPY_MODEL_892db69402454026812f876555a8dd33",
            "max": 116756,
            "min": 0,
            "orientation": "horizontal",
            "style": "IPY_MODEL_175fb50c198d4043b003808ad6fed611",
            "value": 116756
          }
        },
        "760a50cb7f9044378e49d3d43e8bcb23": {
          "model_module": "@jupyter-widgets/controls",
          "model_name": "HTMLModel",
          "model_module_version": "1.5.0",
          "state": {
            "_dom_classes": [],
            "_model_module": "@jupyter-widgets/controls",
            "_model_module_version": "1.5.0",
            "_model_name": "HTMLModel",
            "_view_count": null,
            "_view_module": "@jupyter-widgets/controls",
            "_view_module_version": "1.5.0",
            "_view_name": "HTMLView",
            "description": "",
            "description_tooltip": null,
            "layout": "IPY_MODEL_1411b2eed372483ca0fd3f1665c88060",
            "placeholder": "​",
            "style": "IPY_MODEL_5c83d8aeb3ce441a8f1fb2ca3672188f",
            "value": " 116756/116756 [00:06&lt;00:00, 26732.80 examples/s]"
          }
        },
        "add3eeccf6794671b8956bd2b1c0bfd9": {
          "model_module": "@jupyter-widgets/base",
          "model_name": "LayoutModel",
          "model_module_version": "1.2.0",
          "state": {
            "_model_module": "@jupyter-widgets/base",
            "_model_module_version": "1.2.0",
            "_model_name": "LayoutModel",
            "_view_count": null,
            "_view_module": "@jupyter-widgets/base",
            "_view_module_version": "1.2.0",
            "_view_name": "LayoutView",
            "align_content": null,
            "align_items": null,
            "align_self": null,
            "border": null,
            "bottom": null,
            "display": null,
            "flex": null,
            "flex_flow": null,
            "grid_area": null,
            "grid_auto_columns": null,
            "grid_auto_flow": null,
            "grid_auto_rows": null,
            "grid_column": null,
            "grid_gap": null,
            "grid_row": null,
            "grid_template_areas": null,
            "grid_template_columns": null,
            "grid_template_rows": null,
            "height": null,
            "justify_content": null,
            "justify_items": null,
            "left": null,
            "margin": null,
            "max_height": null,
            "max_width": null,
            "min_height": null,
            "min_width": null,
            "object_fit": null,
            "object_position": null,
            "order": null,
            "overflow": null,
            "overflow_x": null,
            "overflow_y": null,
            "padding": null,
            "right": null,
            "top": null,
            "visibility": null,
            "width": null
          }
        },
        "9c1031f1108249f18d6f62ff930b1db1": {
          "model_module": "@jupyter-widgets/base",
          "model_name": "LayoutModel",
          "model_module_version": "1.2.0",
          "state": {
            "_model_module": "@jupyter-widgets/base",
            "_model_module_version": "1.2.0",
            "_model_name": "LayoutModel",
            "_view_count": null,
            "_view_module": "@jupyter-widgets/base",
            "_view_module_version": "1.2.0",
            "_view_name": "LayoutView",
            "align_content": null,
            "align_items": null,
            "align_self": null,
            "border": null,
            "bottom": null,
            "display": null,
            "flex": null,
            "flex_flow": null,
            "grid_area": null,
            "grid_auto_columns": null,
            "grid_auto_flow": null,
            "grid_auto_rows": null,
            "grid_column": null,
            "grid_gap": null,
            "grid_row": null,
            "grid_template_areas": null,
            "grid_template_columns": null,
            "grid_template_rows": null,
            "height": null,
            "justify_content": null,
            "justify_items": null,
            "left": null,
            "margin": null,
            "max_height": null,
            "max_width": null,
            "min_height": null,
            "min_width": null,
            "object_fit": null,
            "object_position": null,
            "order": null,
            "overflow": null,
            "overflow_x": null,
            "overflow_y": null,
            "padding": null,
            "right": null,
            "top": null,
            "visibility": null,
            "width": null
          }
        },
        "503b3fec346242b9a439e23a19fd73dd": {
          "model_module": "@jupyter-widgets/controls",
          "model_name": "DescriptionStyleModel",
          "model_module_version": "1.5.0",
          "state": {
            "_model_module": "@jupyter-widgets/controls",
            "_model_module_version": "1.5.0",
            "_model_name": "DescriptionStyleModel",
            "_view_count": null,
            "_view_module": "@jupyter-widgets/base",
            "_view_module_version": "1.2.0",
            "_view_name": "StyleView",
            "description_width": ""
          }
        },
        "892db69402454026812f876555a8dd33": {
          "model_module": "@jupyter-widgets/base",
          "model_name": "LayoutModel",
          "model_module_version": "1.2.0",
          "state": {
            "_model_module": "@jupyter-widgets/base",
            "_model_module_version": "1.2.0",
            "_model_name": "LayoutModel",
            "_view_count": null,
            "_view_module": "@jupyter-widgets/base",
            "_view_module_version": "1.2.0",
            "_view_name": "LayoutView",
            "align_content": null,
            "align_items": null,
            "align_self": null,
            "border": null,
            "bottom": null,
            "display": null,
            "flex": null,
            "flex_flow": null,
            "grid_area": null,
            "grid_auto_columns": null,
            "grid_auto_flow": null,
            "grid_auto_rows": null,
            "grid_column": null,
            "grid_gap": null,
            "grid_row": null,
            "grid_template_areas": null,
            "grid_template_columns": null,
            "grid_template_rows": null,
            "height": null,
            "justify_content": null,
            "justify_items": null,
            "left": null,
            "margin": null,
            "max_height": null,
            "max_width": null,
            "min_height": null,
            "min_width": null,
            "object_fit": null,
            "object_position": null,
            "order": null,
            "overflow": null,
            "overflow_x": null,
            "overflow_y": null,
            "padding": null,
            "right": null,
            "top": null,
            "visibility": null,
            "width": null
          }
        },
        "175fb50c198d4043b003808ad6fed611": {
          "model_module": "@jupyter-widgets/controls",
          "model_name": "ProgressStyleModel",
          "model_module_version": "1.5.0",
          "state": {
            "_model_module": "@jupyter-widgets/controls",
            "_model_module_version": "1.5.0",
            "_model_name": "ProgressStyleModel",
            "_view_count": null,
            "_view_module": "@jupyter-widgets/base",
            "_view_module_version": "1.2.0",
            "_view_name": "StyleView",
            "bar_color": null,
            "description_width": ""
          }
        },
        "1411b2eed372483ca0fd3f1665c88060": {
          "model_module": "@jupyter-widgets/base",
          "model_name": "LayoutModel",
          "model_module_version": "1.2.0",
          "state": {
            "_model_module": "@jupyter-widgets/base",
            "_model_module_version": "1.2.0",
            "_model_name": "LayoutModel",
            "_view_count": null,
            "_view_module": "@jupyter-widgets/base",
            "_view_module_version": "1.2.0",
            "_view_name": "LayoutView",
            "align_content": null,
            "align_items": null,
            "align_self": null,
            "border": null,
            "bottom": null,
            "display": null,
            "flex": null,
            "flex_flow": null,
            "grid_area": null,
            "grid_auto_columns": null,
            "grid_auto_flow": null,
            "grid_auto_rows": null,
            "grid_column": null,
            "grid_gap": null,
            "grid_row": null,
            "grid_template_areas": null,
            "grid_template_columns": null,
            "grid_template_rows": null,
            "height": null,
            "justify_content": null,
            "justify_items": null,
            "left": null,
            "margin": null,
            "max_height": null,
            "max_width": null,
            "min_height": null,
            "min_width": null,
            "object_fit": null,
            "object_position": null,
            "order": null,
            "overflow": null,
            "overflow_x": null,
            "overflow_y": null,
            "padding": null,
            "right": null,
            "top": null,
            "visibility": null,
            "width": null
          }
        },
        "5c83d8aeb3ce441a8f1fb2ca3672188f": {
          "model_module": "@jupyter-widgets/controls",
          "model_name": "DescriptionStyleModel",
          "model_module_version": "1.5.0",
          "state": {
            "_model_module": "@jupyter-widgets/controls",
            "_model_module_version": "1.5.0",
            "_model_name": "DescriptionStyleModel",
            "_view_count": null,
            "_view_module": "@jupyter-widgets/base",
            "_view_module_version": "1.2.0",
            "_view_name": "StyleView",
            "description_width": ""
          }
        },
        "692f46fb827c43a5a16dd5a9940f6a75": {
          "model_module": "@jupyter-widgets/controls",
          "model_name": "HBoxModel",
          "model_module_version": "1.5.0",
          "state": {
            "_dom_classes": [],
            "_model_module": "@jupyter-widgets/controls",
            "_model_module_version": "1.5.0",
            "_model_name": "HBoxModel",
            "_view_count": null,
            "_view_module": "@jupyter-widgets/controls",
            "_view_module_version": "1.5.0",
            "_view_name": "HBoxView",
            "box_style": "",
            "children": [
              "IPY_MODEL_bf9a745f9e8043f599cedb7a4fc43203",
              "IPY_MODEL_4196b9ff624542df83467f9874fa7944",
              "IPY_MODEL_c6bfc395b4dd43579b09f447baf482c5"
            ],
            "layout": "IPY_MODEL_045da774f2f44002bec41cbcb67e2470"
          }
        },
        "bf9a745f9e8043f599cedb7a4fc43203": {
          "model_module": "@jupyter-widgets/controls",
          "model_name": "HTMLModel",
          "model_module_version": "1.5.0",
          "state": {
            "_dom_classes": [],
            "_model_module": "@jupyter-widgets/controls",
            "_model_module_version": "1.5.0",
            "_model_name": "HTMLModel",
            "_view_count": null,
            "_view_module": "@jupyter-widgets/controls",
            "_view_module_version": "1.5.0",
            "_view_name": "HTMLView",
            "description": "",
            "description_tooltip": null,
            "layout": "IPY_MODEL_f32094b1da9f4a94af4c53466df6bb0b",
            "placeholder": "​",
            "style": "IPY_MODEL_0ac2e86b3be647d6b76e39e343a1f706",
            "value": "Uploading the dataset shards: 100%"
          }
        },
        "4196b9ff624542df83467f9874fa7944": {
          "model_module": "@jupyter-widgets/controls",
          "model_name": "FloatProgressModel",
          "model_module_version": "1.5.0",
          "state": {
            "_dom_classes": [],
            "_model_module": "@jupyter-widgets/controls",
            "_model_module_version": "1.5.0",
            "_model_name": "FloatProgressModel",
            "_view_count": null,
            "_view_module": "@jupyter-widgets/controls",
            "_view_module_version": "1.5.0",
            "_view_name": "ProgressView",
            "bar_style": "success",
            "description": "",
            "description_tooltip": null,
            "layout": "IPY_MODEL_a0917d5ceec3415a92c8513bd6b495c1",
            "max": 1,
            "min": 0,
            "orientation": "horizontal",
            "style": "IPY_MODEL_661c700c282b4d8695d22e88a2a973df",
            "value": 1
          }
        },
        "c6bfc395b4dd43579b09f447baf482c5": {
          "model_module": "@jupyter-widgets/controls",
          "model_name": "HTMLModel",
          "model_module_version": "1.5.0",
          "state": {
            "_dom_classes": [],
            "_model_module": "@jupyter-widgets/controls",
            "_model_module_version": "1.5.0",
            "_model_name": "HTMLModel",
            "_view_count": null,
            "_view_module": "@jupyter-widgets/controls",
            "_view_module_version": "1.5.0",
            "_view_name": "HTMLView",
            "description": "",
            "description_tooltip": null,
            "layout": "IPY_MODEL_45e00e5ed9c34f2591837f77e0d0d1bf",
            "placeholder": "​",
            "style": "IPY_MODEL_09f40fcf58f24f12b4a6798f188c5f94",
            "value": " 1/1 [00:00&lt;00:00,  1.03it/s]"
          }
        },
        "045da774f2f44002bec41cbcb67e2470": {
          "model_module": "@jupyter-widgets/base",
          "model_name": "LayoutModel",
          "model_module_version": "1.2.0",
          "state": {
            "_model_module": "@jupyter-widgets/base",
            "_model_module_version": "1.2.0",
            "_model_name": "LayoutModel",
            "_view_count": null,
            "_view_module": "@jupyter-widgets/base",
            "_view_module_version": "1.2.0",
            "_view_name": "LayoutView",
            "align_content": null,
            "align_items": null,
            "align_self": null,
            "border": null,
            "bottom": null,
            "display": null,
            "flex": null,
            "flex_flow": null,
            "grid_area": null,
            "grid_auto_columns": null,
            "grid_auto_flow": null,
            "grid_auto_rows": null,
            "grid_column": null,
            "grid_gap": null,
            "grid_row": null,
            "grid_template_areas": null,
            "grid_template_columns": null,
            "grid_template_rows": null,
            "height": null,
            "justify_content": null,
            "justify_items": null,
            "left": null,
            "margin": null,
            "max_height": null,
            "max_width": null,
            "min_height": null,
            "min_width": null,
            "object_fit": null,
            "object_position": null,
            "order": null,
            "overflow": null,
            "overflow_x": null,
            "overflow_y": null,
            "padding": null,
            "right": null,
            "top": null,
            "visibility": null,
            "width": null
          }
        },
        "f32094b1da9f4a94af4c53466df6bb0b": {
          "model_module": "@jupyter-widgets/base",
          "model_name": "LayoutModel",
          "model_module_version": "1.2.0",
          "state": {
            "_model_module": "@jupyter-widgets/base",
            "_model_module_version": "1.2.0",
            "_model_name": "LayoutModel",
            "_view_count": null,
            "_view_module": "@jupyter-widgets/base",
            "_view_module_version": "1.2.0",
            "_view_name": "LayoutView",
            "align_content": null,
            "align_items": null,
            "align_self": null,
            "border": null,
            "bottom": null,
            "display": null,
            "flex": null,
            "flex_flow": null,
            "grid_area": null,
            "grid_auto_columns": null,
            "grid_auto_flow": null,
            "grid_auto_rows": null,
            "grid_column": null,
            "grid_gap": null,
            "grid_row": null,
            "grid_template_areas": null,
            "grid_template_columns": null,
            "grid_template_rows": null,
            "height": null,
            "justify_content": null,
            "justify_items": null,
            "left": null,
            "margin": null,
            "max_height": null,
            "max_width": null,
            "min_height": null,
            "min_width": null,
            "object_fit": null,
            "object_position": null,
            "order": null,
            "overflow": null,
            "overflow_x": null,
            "overflow_y": null,
            "padding": null,
            "right": null,
            "top": null,
            "visibility": null,
            "width": null
          }
        },
        "0ac2e86b3be647d6b76e39e343a1f706": {
          "model_module": "@jupyter-widgets/controls",
          "model_name": "DescriptionStyleModel",
          "model_module_version": "1.5.0",
          "state": {
            "_model_module": "@jupyter-widgets/controls",
            "_model_module_version": "1.5.0",
            "_model_name": "DescriptionStyleModel",
            "_view_count": null,
            "_view_module": "@jupyter-widgets/base",
            "_view_module_version": "1.2.0",
            "_view_name": "StyleView",
            "description_width": ""
          }
        },
        "a0917d5ceec3415a92c8513bd6b495c1": {
          "model_module": "@jupyter-widgets/base",
          "model_name": "LayoutModel",
          "model_module_version": "1.2.0",
          "state": {
            "_model_module": "@jupyter-widgets/base",
            "_model_module_version": "1.2.0",
            "_model_name": "LayoutModel",
            "_view_count": null,
            "_view_module": "@jupyter-widgets/base",
            "_view_module_version": "1.2.0",
            "_view_name": "LayoutView",
            "align_content": null,
            "align_items": null,
            "align_self": null,
            "border": null,
            "bottom": null,
            "display": null,
            "flex": null,
            "flex_flow": null,
            "grid_area": null,
            "grid_auto_columns": null,
            "grid_auto_flow": null,
            "grid_auto_rows": null,
            "grid_column": null,
            "grid_gap": null,
            "grid_row": null,
            "grid_template_areas": null,
            "grid_template_columns": null,
            "grid_template_rows": null,
            "height": null,
            "justify_content": null,
            "justify_items": null,
            "left": null,
            "margin": null,
            "max_height": null,
            "max_width": null,
            "min_height": null,
            "min_width": null,
            "object_fit": null,
            "object_position": null,
            "order": null,
            "overflow": null,
            "overflow_x": null,
            "overflow_y": null,
            "padding": null,
            "right": null,
            "top": null,
            "visibility": null,
            "width": null
          }
        },
        "661c700c282b4d8695d22e88a2a973df": {
          "model_module": "@jupyter-widgets/controls",
          "model_name": "ProgressStyleModel",
          "model_module_version": "1.5.0",
          "state": {
            "_model_module": "@jupyter-widgets/controls",
            "_model_module_version": "1.5.0",
            "_model_name": "ProgressStyleModel",
            "_view_count": null,
            "_view_module": "@jupyter-widgets/base",
            "_view_module_version": "1.2.0",
            "_view_name": "StyleView",
            "bar_color": null,
            "description_width": ""
          }
        },
        "45e00e5ed9c34f2591837f77e0d0d1bf": {
          "model_module": "@jupyter-widgets/base",
          "model_name": "LayoutModel",
          "model_module_version": "1.2.0",
          "state": {
            "_model_module": "@jupyter-widgets/base",
            "_model_module_version": "1.2.0",
            "_model_name": "LayoutModel",
            "_view_count": null,
            "_view_module": "@jupyter-widgets/base",
            "_view_module_version": "1.2.0",
            "_view_name": "LayoutView",
            "align_content": null,
            "align_items": null,
            "align_self": null,
            "border": null,
            "bottom": null,
            "display": null,
            "flex": null,
            "flex_flow": null,
            "grid_area": null,
            "grid_auto_columns": null,
            "grid_auto_flow": null,
            "grid_auto_rows": null,
            "grid_column": null,
            "grid_gap": null,
            "grid_row": null,
            "grid_template_areas": null,
            "grid_template_columns": null,
            "grid_template_rows": null,
            "height": null,
            "justify_content": null,
            "justify_items": null,
            "left": null,
            "margin": null,
            "max_height": null,
            "max_width": null,
            "min_height": null,
            "min_width": null,
            "object_fit": null,
            "object_position": null,
            "order": null,
            "overflow": null,
            "overflow_x": null,
            "overflow_y": null,
            "padding": null,
            "right": null,
            "top": null,
            "visibility": null,
            "width": null
          }
        },
        "09f40fcf58f24f12b4a6798f188c5f94": {
          "model_module": "@jupyter-widgets/controls",
          "model_name": "DescriptionStyleModel",
          "model_module_version": "1.5.0",
          "state": {
            "_model_module": "@jupyter-widgets/controls",
            "_model_module_version": "1.5.0",
            "_model_name": "DescriptionStyleModel",
            "_view_count": null,
            "_view_module": "@jupyter-widgets/base",
            "_view_module_version": "1.2.0",
            "_view_name": "StyleView",
            "description_width": ""
          }
        },
        "e86b987f771e4400bb7d09149e6600dc": {
          "model_module": "@jupyter-widgets/controls",
          "model_name": "HBoxModel",
          "model_module_version": "1.5.0",
          "state": {
            "_dom_classes": [],
            "_model_module": "@jupyter-widgets/controls",
            "_model_module_version": "1.5.0",
            "_model_name": "HBoxModel",
            "_view_count": null,
            "_view_module": "@jupyter-widgets/controls",
            "_view_module_version": "1.5.0",
            "_view_name": "HBoxView",
            "box_style": "",
            "children": [
              "IPY_MODEL_822746b0559e48df985a2230c9a3abe8",
              "IPY_MODEL_e176d15bc7d84310af50c41d7f87e1fa",
              "IPY_MODEL_221fa89b5bad488985e47b20f6fb9301"
            ],
            "layout": "IPY_MODEL_4c1abe453d6b4b9db2bf7e30de07d893"
          }
        },
        "822746b0559e48df985a2230c9a3abe8": {
          "model_module": "@jupyter-widgets/controls",
          "model_name": "HTMLModel",
          "model_module_version": "1.5.0",
          "state": {
            "_dom_classes": [],
            "_model_module": "@jupyter-widgets/controls",
            "_model_module_version": "1.5.0",
            "_model_name": "HTMLModel",
            "_view_count": null,
            "_view_module": "@jupyter-widgets/controls",
            "_view_module_version": "1.5.0",
            "_view_name": "HTMLView",
            "description": "",
            "description_tooltip": null,
            "layout": "IPY_MODEL_cfcfc8656a5c4a308a894454cd83f802",
            "placeholder": "​",
            "style": "IPY_MODEL_d8e858a22ed74084a06f7ee157dd3c15",
            "value": "Creating parquet from Arrow format: 100%"
          }
        },
        "e176d15bc7d84310af50c41d7f87e1fa": {
          "model_module": "@jupyter-widgets/controls",
          "model_name": "FloatProgressModel",
          "model_module_version": "1.5.0",
          "state": {
            "_dom_classes": [],
            "_model_module": "@jupyter-widgets/controls",
            "_model_module_version": "1.5.0",
            "_model_name": "FloatProgressModel",
            "_view_count": null,
            "_view_module": "@jupyter-widgets/controls",
            "_view_module_version": "1.5.0",
            "_view_name": "ProgressView",
            "bar_style": "success",
            "description": "",
            "description_tooltip": null,
            "layout": "IPY_MODEL_353ce8b4635244ceb2db5c57330189a6",
            "max": 1,
            "min": 0,
            "orientation": "horizontal",
            "style": "IPY_MODEL_c11e5898cbf34b33bab0499405dfb14c",
            "value": 1
          }
        },
        "221fa89b5bad488985e47b20f6fb9301": {
          "model_module": "@jupyter-widgets/controls",
          "model_name": "HTMLModel",
          "model_module_version": "1.5.0",
          "state": {
            "_dom_classes": [],
            "_model_module": "@jupyter-widgets/controls",
            "_model_module_version": "1.5.0",
            "_model_name": "HTMLModel",
            "_view_count": null,
            "_view_module": "@jupyter-widgets/controls",
            "_view_module_version": "1.5.0",
            "_view_name": "HTMLView",
            "description": "",
            "description_tooltip": null,
            "layout": "IPY_MODEL_93da68372f414a029fee6530358e548f",
            "placeholder": "​",
            "style": "IPY_MODEL_c5f2d9f14579439cbb4a2886256381e4",
            "value": " 1/1 [00:00&lt;00:00,  5.05ba/s]"
          }
        },
        "4c1abe453d6b4b9db2bf7e30de07d893": {
          "model_module": "@jupyter-widgets/base",
          "model_name": "LayoutModel",
          "model_module_version": "1.2.0",
          "state": {
            "_model_module": "@jupyter-widgets/base",
            "_model_module_version": "1.2.0",
            "_model_name": "LayoutModel",
            "_view_count": null,
            "_view_module": "@jupyter-widgets/base",
            "_view_module_version": "1.2.0",
            "_view_name": "LayoutView",
            "align_content": null,
            "align_items": null,
            "align_self": null,
            "border": null,
            "bottom": null,
            "display": null,
            "flex": null,
            "flex_flow": null,
            "grid_area": null,
            "grid_auto_columns": null,
            "grid_auto_flow": null,
            "grid_auto_rows": null,
            "grid_column": null,
            "grid_gap": null,
            "grid_row": null,
            "grid_template_areas": null,
            "grid_template_columns": null,
            "grid_template_rows": null,
            "height": null,
            "justify_content": null,
            "justify_items": null,
            "left": null,
            "margin": null,
            "max_height": null,
            "max_width": null,
            "min_height": null,
            "min_width": null,
            "object_fit": null,
            "object_position": null,
            "order": null,
            "overflow": null,
            "overflow_x": null,
            "overflow_y": null,
            "padding": null,
            "right": null,
            "top": null,
            "visibility": null,
            "width": null
          }
        },
        "cfcfc8656a5c4a308a894454cd83f802": {
          "model_module": "@jupyter-widgets/base",
          "model_name": "LayoutModel",
          "model_module_version": "1.2.0",
          "state": {
            "_model_module": "@jupyter-widgets/base",
            "_model_module_version": "1.2.0",
            "_model_name": "LayoutModel",
            "_view_count": null,
            "_view_module": "@jupyter-widgets/base",
            "_view_module_version": "1.2.0",
            "_view_name": "LayoutView",
            "align_content": null,
            "align_items": null,
            "align_self": null,
            "border": null,
            "bottom": null,
            "display": null,
            "flex": null,
            "flex_flow": null,
            "grid_area": null,
            "grid_auto_columns": null,
            "grid_auto_flow": null,
            "grid_auto_rows": null,
            "grid_column": null,
            "grid_gap": null,
            "grid_row": null,
            "grid_template_areas": null,
            "grid_template_columns": null,
            "grid_template_rows": null,
            "height": null,
            "justify_content": null,
            "justify_items": null,
            "left": null,
            "margin": null,
            "max_height": null,
            "max_width": null,
            "min_height": null,
            "min_width": null,
            "object_fit": null,
            "object_position": null,
            "order": null,
            "overflow": null,
            "overflow_x": null,
            "overflow_y": null,
            "padding": null,
            "right": null,
            "top": null,
            "visibility": null,
            "width": null
          }
        },
        "d8e858a22ed74084a06f7ee157dd3c15": {
          "model_module": "@jupyter-widgets/controls",
          "model_name": "DescriptionStyleModel",
          "model_module_version": "1.5.0",
          "state": {
            "_model_module": "@jupyter-widgets/controls",
            "_model_module_version": "1.5.0",
            "_model_name": "DescriptionStyleModel",
            "_view_count": null,
            "_view_module": "@jupyter-widgets/base",
            "_view_module_version": "1.2.0",
            "_view_name": "StyleView",
            "description_width": ""
          }
        },
        "353ce8b4635244ceb2db5c57330189a6": {
          "model_module": "@jupyter-widgets/base",
          "model_name": "LayoutModel",
          "model_module_version": "1.2.0",
          "state": {
            "_model_module": "@jupyter-widgets/base",
            "_model_module_version": "1.2.0",
            "_model_name": "LayoutModel",
            "_view_count": null,
            "_view_module": "@jupyter-widgets/base",
            "_view_module_version": "1.2.0",
            "_view_name": "LayoutView",
            "align_content": null,
            "align_items": null,
            "align_self": null,
            "border": null,
            "bottom": null,
            "display": null,
            "flex": null,
            "flex_flow": null,
            "grid_area": null,
            "grid_auto_columns": null,
            "grid_auto_flow": null,
            "grid_auto_rows": null,
            "grid_column": null,
            "grid_gap": null,
            "grid_row": null,
            "grid_template_areas": null,
            "grid_template_columns": null,
            "grid_template_rows": null,
            "height": null,
            "justify_content": null,
            "justify_items": null,
            "left": null,
            "margin": null,
            "max_height": null,
            "max_width": null,
            "min_height": null,
            "min_width": null,
            "object_fit": null,
            "object_position": null,
            "order": null,
            "overflow": null,
            "overflow_x": null,
            "overflow_y": null,
            "padding": null,
            "right": null,
            "top": null,
            "visibility": null,
            "width": null
          }
        },
        "c11e5898cbf34b33bab0499405dfb14c": {
          "model_module": "@jupyter-widgets/controls",
          "model_name": "ProgressStyleModel",
          "model_module_version": "1.5.0",
          "state": {
            "_model_module": "@jupyter-widgets/controls",
            "_model_module_version": "1.5.0",
            "_model_name": "ProgressStyleModel",
            "_view_count": null,
            "_view_module": "@jupyter-widgets/base",
            "_view_module_version": "1.2.0",
            "_view_name": "StyleView",
            "bar_color": null,
            "description_width": ""
          }
        },
        "93da68372f414a029fee6530358e548f": {
          "model_module": "@jupyter-widgets/base",
          "model_name": "LayoutModel",
          "model_module_version": "1.2.0",
          "state": {
            "_model_module": "@jupyter-widgets/base",
            "_model_module_version": "1.2.0",
            "_model_name": "LayoutModel",
            "_view_count": null,
            "_view_module": "@jupyter-widgets/base",
            "_view_module_version": "1.2.0",
            "_view_name": "LayoutView",
            "align_content": null,
            "align_items": null,
            "align_self": null,
            "border": null,
            "bottom": null,
            "display": null,
            "flex": null,
            "flex_flow": null,
            "grid_area": null,
            "grid_auto_columns": null,
            "grid_auto_flow": null,
            "grid_auto_rows": null,
            "grid_column": null,
            "grid_gap": null,
            "grid_row": null,
            "grid_template_areas": null,
            "grid_template_columns": null,
            "grid_template_rows": null,
            "height": null,
            "justify_content": null,
            "justify_items": null,
            "left": null,
            "margin": null,
            "max_height": null,
            "max_width": null,
            "min_height": null,
            "min_width": null,
            "object_fit": null,
            "object_position": null,
            "order": null,
            "overflow": null,
            "overflow_x": null,
            "overflow_y": null,
            "padding": null,
            "right": null,
            "top": null,
            "visibility": null,
            "width": null
          }
        },
        "c5f2d9f14579439cbb4a2886256381e4": {
          "model_module": "@jupyter-widgets/controls",
          "model_name": "DescriptionStyleModel",
          "model_module_version": "1.5.0",
          "state": {
            "_model_module": "@jupyter-widgets/controls",
            "_model_module_version": "1.5.0",
            "_model_name": "DescriptionStyleModel",
            "_view_count": null,
            "_view_module": "@jupyter-widgets/base",
            "_view_module_version": "1.2.0",
            "_view_name": "StyleView",
            "description_width": ""
          }
        },
        "f5383311a1d54e7aa86251a8cccc69a7": {
          "model_module": "@jupyter-widgets/controls",
          "model_name": "HBoxModel",
          "model_module_version": "1.5.0",
          "state": {
            "_dom_classes": [],
            "_model_module": "@jupyter-widgets/controls",
            "_model_module_version": "1.5.0",
            "_model_name": "HBoxModel",
            "_view_count": null,
            "_view_module": "@jupyter-widgets/controls",
            "_view_module_version": "1.5.0",
            "_view_name": "HBoxView",
            "box_style": "",
            "children": [
              "IPY_MODEL_497d25d466204fa88bcebc3950dcb471",
              "IPY_MODEL_f7c68d3eb8114bdfbd0a65eeba97adf1",
              "IPY_MODEL_6330fd2e10c64a78a10c4e677fb3acf6"
            ],
            "layout": "IPY_MODEL_9c23a8e2842c4adbb88575ba6aefd7c2"
          }
        },
        "497d25d466204fa88bcebc3950dcb471": {
          "model_module": "@jupyter-widgets/controls",
          "model_name": "HTMLModel",
          "model_module_version": "1.5.0",
          "state": {
            "_dom_classes": [],
            "_model_module": "@jupyter-widgets/controls",
            "_model_module_version": "1.5.0",
            "_model_name": "HTMLModel",
            "_view_count": null,
            "_view_module": "@jupyter-widgets/controls",
            "_view_module_version": "1.5.0",
            "_view_name": "HTMLView",
            "description": "",
            "description_tooltip": null,
            "layout": "IPY_MODEL_ae93f8bdd8c84a0d83deb3ecd4d29e6e",
            "placeholder": "​",
            "style": "IPY_MODEL_7df36acddc4f43a4841a41df841fb4af",
            "value": "model.safetensors: 100%"
          }
        },
        "f7c68d3eb8114bdfbd0a65eeba97adf1": {
          "model_module": "@jupyter-widgets/controls",
          "model_name": "FloatProgressModel",
          "model_module_version": "1.5.0",
          "state": {
            "_dom_classes": [],
            "_model_module": "@jupyter-widgets/controls",
            "_model_module_version": "1.5.0",
            "_model_name": "FloatProgressModel",
            "_view_count": null,
            "_view_module": "@jupyter-widgets/controls",
            "_view_module_version": "1.5.0",
            "_view_name": "ProgressView",
            "bar_style": "danger",
            "description": "",
            "description_tooltip": null,
            "layout": "IPY_MODEL_e4191cbaa80e4e878f1b4c8c6358f59b",
            "max": 5964186418,
            "min": 0,
            "orientation": "horizontal",
            "style": "IPY_MODEL_fd12712d460643c794ffec77129fe375",
            "value": 5964185850
          }
        },
        "6330fd2e10c64a78a10c4e677fb3acf6": {
          "model_module": "@jupyter-widgets/controls",
          "model_name": "HTMLModel",
          "model_module_version": "1.5.0",
          "state": {
            "_dom_classes": [],
            "_model_module": "@jupyter-widgets/controls",
            "_model_module_version": "1.5.0",
            "_model_name": "HTMLModel",
            "_view_count": null,
            "_view_module": "@jupyter-widgets/controls",
            "_view_module_version": "1.5.0",
            "_view_name": "HTMLView",
            "description": "",
            "description_tooltip": null,
            "layout": "IPY_MODEL_2bc7ee87f4ca4c2ead7f99c837a716c7",
            "placeholder": "​",
            "style": "IPY_MODEL_057dae4fac3640f2b38e4eaeb8a2a945",
            "value": " 5.96G/5.96G [01:04&lt;00:00, 493MB/s]"
          }
        },
        "9c23a8e2842c4adbb88575ba6aefd7c2": {
          "model_module": "@jupyter-widgets/base",
          "model_name": "LayoutModel",
          "model_module_version": "1.2.0",
          "state": {
            "_model_module": "@jupyter-widgets/base",
            "_model_module_version": "1.2.0",
            "_model_name": "LayoutModel",
            "_view_count": null,
            "_view_module": "@jupyter-widgets/base",
            "_view_module_version": "1.2.0",
            "_view_name": "LayoutView",
            "align_content": null,
            "align_items": null,
            "align_self": null,
            "border": null,
            "bottom": null,
            "display": null,
            "flex": null,
            "flex_flow": null,
            "grid_area": null,
            "grid_auto_columns": null,
            "grid_auto_flow": null,
            "grid_auto_rows": null,
            "grid_column": null,
            "grid_gap": null,
            "grid_row": null,
            "grid_template_areas": null,
            "grid_template_columns": null,
            "grid_template_rows": null,
            "height": null,
            "justify_content": null,
            "justify_items": null,
            "left": null,
            "margin": null,
            "max_height": null,
            "max_width": null,
            "min_height": null,
            "min_width": null,
            "object_fit": null,
            "object_position": null,
            "order": null,
            "overflow": null,
            "overflow_x": null,
            "overflow_y": null,
            "padding": null,
            "right": null,
            "top": null,
            "visibility": null,
            "width": null
          }
        },
        "ae93f8bdd8c84a0d83deb3ecd4d29e6e": {
          "model_module": "@jupyter-widgets/base",
          "model_name": "LayoutModel",
          "model_module_version": "1.2.0",
          "state": {
            "_model_module": "@jupyter-widgets/base",
            "_model_module_version": "1.2.0",
            "_model_name": "LayoutModel",
            "_view_count": null,
            "_view_module": "@jupyter-widgets/base",
            "_view_module_version": "1.2.0",
            "_view_name": "LayoutView",
            "align_content": null,
            "align_items": null,
            "align_self": null,
            "border": null,
            "bottom": null,
            "display": null,
            "flex": null,
            "flex_flow": null,
            "grid_area": null,
            "grid_auto_columns": null,
            "grid_auto_flow": null,
            "grid_auto_rows": null,
            "grid_column": null,
            "grid_gap": null,
            "grid_row": null,
            "grid_template_areas": null,
            "grid_template_columns": null,
            "grid_template_rows": null,
            "height": null,
            "justify_content": null,
            "justify_items": null,
            "left": null,
            "margin": null,
            "max_height": null,
            "max_width": null,
            "min_height": null,
            "min_width": null,
            "object_fit": null,
            "object_position": null,
            "order": null,
            "overflow": null,
            "overflow_x": null,
            "overflow_y": null,
            "padding": null,
            "right": null,
            "top": null,
            "visibility": null,
            "width": null
          }
        },
        "7df36acddc4f43a4841a41df841fb4af": {
          "model_module": "@jupyter-widgets/controls",
          "model_name": "DescriptionStyleModel",
          "model_module_version": "1.5.0",
          "state": {
            "_model_module": "@jupyter-widgets/controls",
            "_model_module_version": "1.5.0",
            "_model_name": "DescriptionStyleModel",
            "_view_count": null,
            "_view_module": "@jupyter-widgets/base",
            "_view_module_version": "1.2.0",
            "_view_name": "StyleView",
            "description_width": ""
          }
        },
        "e4191cbaa80e4e878f1b4c8c6358f59b": {
          "model_module": "@jupyter-widgets/base",
          "model_name": "LayoutModel",
          "model_module_version": "1.2.0",
          "state": {
            "_model_module": "@jupyter-widgets/base",
            "_model_module_version": "1.2.0",
            "_model_name": "LayoutModel",
            "_view_count": null,
            "_view_module": "@jupyter-widgets/base",
            "_view_module_version": "1.2.0",
            "_view_name": "LayoutView",
            "align_content": null,
            "align_items": null,
            "align_self": null,
            "border": null,
            "bottom": null,
            "display": null,
            "flex": null,
            "flex_flow": null,
            "grid_area": null,
            "grid_auto_columns": null,
            "grid_auto_flow": null,
            "grid_auto_rows": null,
            "grid_column": null,
            "grid_gap": null,
            "grid_row": null,
            "grid_template_areas": null,
            "grid_template_columns": null,
            "grid_template_rows": null,
            "height": null,
            "justify_content": null,
            "justify_items": null,
            "left": null,
            "margin": null,
            "max_height": null,
            "max_width": null,
            "min_height": null,
            "min_width": null,
            "object_fit": null,
            "object_position": null,
            "order": null,
            "overflow": null,
            "overflow_x": null,
            "overflow_y": null,
            "padding": null,
            "right": null,
            "top": null,
            "visibility": null,
            "width": null
          }
        },
        "fd12712d460643c794ffec77129fe375": {
          "model_module": "@jupyter-widgets/controls",
          "model_name": "ProgressStyleModel",
          "model_module_version": "1.5.0",
          "state": {
            "_model_module": "@jupyter-widgets/controls",
            "_model_module_version": "1.5.0",
            "_model_name": "ProgressStyleModel",
            "_view_count": null,
            "_view_module": "@jupyter-widgets/base",
            "_view_module_version": "1.2.0",
            "_view_name": "StyleView",
            "bar_color": null,
            "description_width": ""
          }
        },
        "2bc7ee87f4ca4c2ead7f99c837a716c7": {
          "model_module": "@jupyter-widgets/base",
          "model_name": "LayoutModel",
          "model_module_version": "1.2.0",
          "state": {
            "_model_module": "@jupyter-widgets/base",
            "_model_module_version": "1.2.0",
            "_model_name": "LayoutModel",
            "_view_count": null,
            "_view_module": "@jupyter-widgets/base",
            "_view_module_version": "1.2.0",
            "_view_name": "LayoutView",
            "align_content": null,
            "align_items": null,
            "align_self": null,
            "border": null,
            "bottom": null,
            "display": null,
            "flex": null,
            "flex_flow": null,
            "grid_area": null,
            "grid_auto_columns": null,
            "grid_auto_flow": null,
            "grid_auto_rows": null,
            "grid_column": null,
            "grid_gap": null,
            "grid_row": null,
            "grid_template_areas": null,
            "grid_template_columns": null,
            "grid_template_rows": null,
            "height": null,
            "justify_content": null,
            "justify_items": null,
            "left": null,
            "margin": null,
            "max_height": null,
            "max_width": null,
            "min_height": null,
            "min_width": null,
            "object_fit": null,
            "object_position": null,
            "order": null,
            "overflow": null,
            "overflow_x": null,
            "overflow_y": null,
            "padding": null,
            "right": null,
            "top": null,
            "visibility": null,
            "width": null
          }
        },
        "057dae4fac3640f2b38e4eaeb8a2a945": {
          "model_module": "@jupyter-widgets/controls",
          "model_name": "DescriptionStyleModel",
          "model_module_version": "1.5.0",
          "state": {
            "_model_module": "@jupyter-widgets/controls",
            "_model_module_version": "1.5.0",
            "_model_name": "DescriptionStyleModel",
            "_view_count": null,
            "_view_module": "@jupyter-widgets/base",
            "_view_module_version": "1.2.0",
            "_view_name": "StyleView",
            "description_width": ""
          }
        },
        "fcaf7932ece044b3a5ee8673434b4be0": {
          "model_module": "@jupyter-widgets/controls",
          "model_name": "HBoxModel",
          "model_module_version": "1.5.0",
          "state": {
            "_dom_classes": [],
            "_model_module": "@jupyter-widgets/controls",
            "_model_module_version": "1.5.0",
            "_model_name": "HBoxModel",
            "_view_count": null,
            "_view_module": "@jupyter-widgets/controls",
            "_view_module_version": "1.5.0",
            "_view_name": "HBoxView",
            "box_style": "",
            "children": [
              "IPY_MODEL_a9d901eb5a2a4d13bcaa3c404e03fc4d",
              "IPY_MODEL_988f6c90e2b449db9b1e8e112f7c8bb9",
              "IPY_MODEL_c88649226dde4e259fafd4150d802125"
            ],
            "layout": "IPY_MODEL_1ed7949a8080489d98db83aa7f98beed"
          }
        },
        "a9d901eb5a2a4d13bcaa3c404e03fc4d": {
          "model_module": "@jupyter-widgets/controls",
          "model_name": "HTMLModel",
          "model_module_version": "1.5.0",
          "state": {
            "_dom_classes": [],
            "_model_module": "@jupyter-widgets/controls",
            "_model_module_version": "1.5.0",
            "_model_name": "HTMLModel",
            "_view_count": null,
            "_view_module": "@jupyter-widgets/controls",
            "_view_module_version": "1.5.0",
            "_view_name": "HTMLView",
            "description": "",
            "description_tooltip": null,
            "layout": "IPY_MODEL_f50f057754424962b7c73d13345f254c",
            "placeholder": "​",
            "style": "IPY_MODEL_47abc1a6bf784626ab7699d6f88645a9",
            "value": "generation_config.json: 100%"
          }
        },
        "988f6c90e2b449db9b1e8e112f7c8bb9": {
          "model_module": "@jupyter-widgets/controls",
          "model_name": "FloatProgressModel",
          "model_module_version": "1.5.0",
          "state": {
            "_dom_classes": [],
            "_model_module": "@jupyter-widgets/controls",
            "_model_module_version": "1.5.0",
            "_model_name": "FloatProgressModel",
            "_view_count": null,
            "_view_module": "@jupyter-widgets/controls",
            "_view_module_version": "1.5.0",
            "_view_name": "ProgressView",
            "bar_style": "success",
            "description": "",
            "description_tooltip": null,
            "layout": "IPY_MODEL_b0be834befbe45b9b04d8b02302f1c7e",
            "max": 236,
            "min": 0,
            "orientation": "horizontal",
            "style": "IPY_MODEL_0cf1c577f64e4f5890859cf227fd5512",
            "value": 236
          }
        },
        "c88649226dde4e259fafd4150d802125": {
          "model_module": "@jupyter-widgets/controls",
          "model_name": "HTMLModel",
          "model_module_version": "1.5.0",
          "state": {
            "_dom_classes": [],
            "_model_module": "@jupyter-widgets/controls",
            "_model_module_version": "1.5.0",
            "_model_name": "HTMLModel",
            "_view_count": null,
            "_view_module": "@jupyter-widgets/controls",
            "_view_module_version": "1.5.0",
            "_view_name": "HTMLView",
            "description": "",
            "description_tooltip": null,
            "layout": "IPY_MODEL_96d4827794894383882f8ca3baaac44d",
            "placeholder": "​",
            "style": "IPY_MODEL_599e88b23ce54c9083313c8b2031e85a",
            "value": " 236/236 [00:00&lt;00:00, 17.7kB/s]"
          }
        },
        "1ed7949a8080489d98db83aa7f98beed": {
          "model_module": "@jupyter-widgets/base",
          "model_name": "LayoutModel",
          "model_module_version": "1.2.0",
          "state": {
            "_model_module": "@jupyter-widgets/base",
            "_model_module_version": "1.2.0",
            "_model_name": "LayoutModel",
            "_view_count": null,
            "_view_module": "@jupyter-widgets/base",
            "_view_module_version": "1.2.0",
            "_view_name": "LayoutView",
            "align_content": null,
            "align_items": null,
            "align_self": null,
            "border": null,
            "bottom": null,
            "display": null,
            "flex": null,
            "flex_flow": null,
            "grid_area": null,
            "grid_auto_columns": null,
            "grid_auto_flow": null,
            "grid_auto_rows": null,
            "grid_column": null,
            "grid_gap": null,
            "grid_row": null,
            "grid_template_areas": null,
            "grid_template_columns": null,
            "grid_template_rows": null,
            "height": null,
            "justify_content": null,
            "justify_items": null,
            "left": null,
            "margin": null,
            "max_height": null,
            "max_width": null,
            "min_height": null,
            "min_width": null,
            "object_fit": null,
            "object_position": null,
            "order": null,
            "overflow": null,
            "overflow_x": null,
            "overflow_y": null,
            "padding": null,
            "right": null,
            "top": null,
            "visibility": null,
            "width": null
          }
        },
        "f50f057754424962b7c73d13345f254c": {
          "model_module": "@jupyter-widgets/base",
          "model_name": "LayoutModel",
          "model_module_version": "1.2.0",
          "state": {
            "_model_module": "@jupyter-widgets/base",
            "_model_module_version": "1.2.0",
            "_model_name": "LayoutModel",
            "_view_count": null,
            "_view_module": "@jupyter-widgets/base",
            "_view_module_version": "1.2.0",
            "_view_name": "LayoutView",
            "align_content": null,
            "align_items": null,
            "align_self": null,
            "border": null,
            "bottom": null,
            "display": null,
            "flex": null,
            "flex_flow": null,
            "grid_area": null,
            "grid_auto_columns": null,
            "grid_auto_flow": null,
            "grid_auto_rows": null,
            "grid_column": null,
            "grid_gap": null,
            "grid_row": null,
            "grid_template_areas": null,
            "grid_template_columns": null,
            "grid_template_rows": null,
            "height": null,
            "justify_content": null,
            "justify_items": null,
            "left": null,
            "margin": null,
            "max_height": null,
            "max_width": null,
            "min_height": null,
            "min_width": null,
            "object_fit": null,
            "object_position": null,
            "order": null,
            "overflow": null,
            "overflow_x": null,
            "overflow_y": null,
            "padding": null,
            "right": null,
            "top": null,
            "visibility": null,
            "width": null
          }
        },
        "47abc1a6bf784626ab7699d6f88645a9": {
          "model_module": "@jupyter-widgets/controls",
          "model_name": "DescriptionStyleModel",
          "model_module_version": "1.5.0",
          "state": {
            "_model_module": "@jupyter-widgets/controls",
            "_model_module_version": "1.5.0",
            "_model_name": "DescriptionStyleModel",
            "_view_count": null,
            "_view_module": "@jupyter-widgets/base",
            "_view_module_version": "1.2.0",
            "_view_name": "StyleView",
            "description_width": ""
          }
        },
        "b0be834befbe45b9b04d8b02302f1c7e": {
          "model_module": "@jupyter-widgets/base",
          "model_name": "LayoutModel",
          "model_module_version": "1.2.0",
          "state": {
            "_model_module": "@jupyter-widgets/base",
            "_model_module_version": "1.2.0",
            "_model_name": "LayoutModel",
            "_view_count": null,
            "_view_module": "@jupyter-widgets/base",
            "_view_module_version": "1.2.0",
            "_view_name": "LayoutView",
            "align_content": null,
            "align_items": null,
            "align_self": null,
            "border": null,
            "bottom": null,
            "display": null,
            "flex": null,
            "flex_flow": null,
            "grid_area": null,
            "grid_auto_columns": null,
            "grid_auto_flow": null,
            "grid_auto_rows": null,
            "grid_column": null,
            "grid_gap": null,
            "grid_row": null,
            "grid_template_areas": null,
            "grid_template_columns": null,
            "grid_template_rows": null,
            "height": null,
            "justify_content": null,
            "justify_items": null,
            "left": null,
            "margin": null,
            "max_height": null,
            "max_width": null,
            "min_height": null,
            "min_width": null,
            "object_fit": null,
            "object_position": null,
            "order": null,
            "overflow": null,
            "overflow_x": null,
            "overflow_y": null,
            "padding": null,
            "right": null,
            "top": null,
            "visibility": null,
            "width": null
          }
        },
        "0cf1c577f64e4f5890859cf227fd5512": {
          "model_module": "@jupyter-widgets/controls",
          "model_name": "ProgressStyleModel",
          "model_module_version": "1.5.0",
          "state": {
            "_model_module": "@jupyter-widgets/controls",
            "_model_module_version": "1.5.0",
            "_model_name": "ProgressStyleModel",
            "_view_count": null,
            "_view_module": "@jupyter-widgets/base",
            "_view_module_version": "1.2.0",
            "_view_name": "StyleView",
            "bar_color": null,
            "description_width": ""
          }
        },
        "96d4827794894383882f8ca3baaac44d": {
          "model_module": "@jupyter-widgets/base",
          "model_name": "LayoutModel",
          "model_module_version": "1.2.0",
          "state": {
            "_model_module": "@jupyter-widgets/base",
            "_model_module_version": "1.2.0",
            "_model_name": "LayoutModel",
            "_view_count": null,
            "_view_module": "@jupyter-widgets/base",
            "_view_module_version": "1.2.0",
            "_view_name": "LayoutView",
            "align_content": null,
            "align_items": null,
            "align_self": null,
            "border": null,
            "bottom": null,
            "display": null,
            "flex": null,
            "flex_flow": null,
            "grid_area": null,
            "grid_auto_columns": null,
            "grid_auto_flow": null,
            "grid_auto_rows": null,
            "grid_column": null,
            "grid_gap": null,
            "grid_row": null,
            "grid_template_areas": null,
            "grid_template_columns": null,
            "grid_template_rows": null,
            "height": null,
            "justify_content": null,
            "justify_items": null,
            "left": null,
            "margin": null,
            "max_height": null,
            "max_width": null,
            "min_height": null,
            "min_width": null,
            "object_fit": null,
            "object_position": null,
            "order": null,
            "overflow": null,
            "overflow_x": null,
            "overflow_y": null,
            "padding": null,
            "right": null,
            "top": null,
            "visibility": null,
            "width": null
          }
        },
        "599e88b23ce54c9083313c8b2031e85a": {
          "model_module": "@jupyter-widgets/controls",
          "model_name": "DescriptionStyleModel",
          "model_module_version": "1.5.0",
          "state": {
            "_model_module": "@jupyter-widgets/controls",
            "_model_module_version": "1.5.0",
            "_model_name": "DescriptionStyleModel",
            "_view_count": null,
            "_view_module": "@jupyter-widgets/base",
            "_view_module_version": "1.2.0",
            "_view_name": "StyleView",
            "description_width": ""
          }
        },
        "a00d34887bd54950b2af4a2c48f9dfa9": {
          "model_module": "@jupyter-widgets/controls",
          "model_name": "HBoxModel",
          "model_module_version": "1.5.0",
          "state": {
            "_dom_classes": [],
            "_model_module": "@jupyter-widgets/controls",
            "_model_module_version": "1.5.0",
            "_model_name": "HBoxModel",
            "_view_count": null,
            "_view_module": "@jupyter-widgets/controls",
            "_view_module_version": "1.5.0",
            "_view_name": "HBoxView",
            "box_style": "",
            "children": [
              "IPY_MODEL_807e953b8b4a4ef1a87add2430e568b5",
              "IPY_MODEL_a3cb7a222adc4e2c9f54abbac45d5d0d",
              "IPY_MODEL_4ce84d123fbb49d9a7e6c68952d4a7e6"
            ],
            "layout": "IPY_MODEL_af8ef6de101e434d9808edd87ad1f115"
          }
        },
        "807e953b8b4a4ef1a87add2430e568b5": {
          "model_module": "@jupyter-widgets/controls",
          "model_name": "HTMLModel",
          "model_module_version": "1.5.0",
          "state": {
            "_dom_classes": [],
            "_model_module": "@jupyter-widgets/controls",
            "_model_module_version": "1.5.0",
            "_model_name": "HTMLModel",
            "_view_count": null,
            "_view_module": "@jupyter-widgets/controls",
            "_view_module_version": "1.5.0",
            "_view_name": "HTMLView",
            "description": "",
            "description_tooltip": null,
            "layout": "IPY_MODEL_2a9541c60a5647ecacf5e9d301a3c066",
            "placeholder": "​",
            "style": "IPY_MODEL_528dd619c2b540bc92874f3a5e43d9e7",
            "value": "tokenizer_config.json: 100%"
          }
        },
        "a3cb7a222adc4e2c9f54abbac45d5d0d": {
          "model_module": "@jupyter-widgets/controls",
          "model_name": "FloatProgressModel",
          "model_module_version": "1.5.0",
          "state": {
            "_dom_classes": [],
            "_model_module": "@jupyter-widgets/controls",
            "_model_module_version": "1.5.0",
            "_model_name": "FloatProgressModel",
            "_view_count": null,
            "_view_module": "@jupyter-widgets/controls",
            "_view_module_version": "1.5.0",
            "_view_name": "ProgressView",
            "bar_style": "success",
            "description": "",
            "description_tooltip": null,
            "layout": "IPY_MODEL_28b500f29f534e35982704c2717ea064",
            "max": 52946,
            "min": 0,
            "orientation": "horizontal",
            "style": "IPY_MODEL_c97e434d123f4adfa763970498018d97",
            "value": 52946
          }
        },
        "4ce84d123fbb49d9a7e6c68952d4a7e6": {
          "model_module": "@jupyter-widgets/controls",
          "model_name": "HTMLModel",
          "model_module_version": "1.5.0",
          "state": {
            "_dom_classes": [],
            "_model_module": "@jupyter-widgets/controls",
            "_model_module_version": "1.5.0",
            "_model_name": "HTMLModel",
            "_view_count": null,
            "_view_module": "@jupyter-widgets/controls",
            "_view_module_version": "1.5.0",
            "_view_name": "HTMLView",
            "description": "",
            "description_tooltip": null,
            "layout": "IPY_MODEL_ee62ccd5cfce4484b483099fcfbac8b8",
            "placeholder": "​",
            "style": "IPY_MODEL_642432d3748e46ae95e8476cc9c6c53b",
            "value": " 52.9k/52.9k [00:00&lt;00:00, 2.69MB/s]"
          }
        },
        "af8ef6de101e434d9808edd87ad1f115": {
          "model_module": "@jupyter-widgets/base",
          "model_name": "LayoutModel",
          "model_module_version": "1.2.0",
          "state": {
            "_model_module": "@jupyter-widgets/base",
            "_model_module_version": "1.2.0",
            "_model_name": "LayoutModel",
            "_view_count": null,
            "_view_module": "@jupyter-widgets/base",
            "_view_module_version": "1.2.0",
            "_view_name": "LayoutView",
            "align_content": null,
            "align_items": null,
            "align_self": null,
            "border": null,
            "bottom": null,
            "display": null,
            "flex": null,
            "flex_flow": null,
            "grid_area": null,
            "grid_auto_columns": null,
            "grid_auto_flow": null,
            "grid_auto_rows": null,
            "grid_column": null,
            "grid_gap": null,
            "grid_row": null,
            "grid_template_areas": null,
            "grid_template_columns": null,
            "grid_template_rows": null,
            "height": null,
            "justify_content": null,
            "justify_items": null,
            "left": null,
            "margin": null,
            "max_height": null,
            "max_width": null,
            "min_height": null,
            "min_width": null,
            "object_fit": null,
            "object_position": null,
            "order": null,
            "overflow": null,
            "overflow_x": null,
            "overflow_y": null,
            "padding": null,
            "right": null,
            "top": null,
            "visibility": null,
            "width": null
          }
        },
        "2a9541c60a5647ecacf5e9d301a3c066": {
          "model_module": "@jupyter-widgets/base",
          "model_name": "LayoutModel",
          "model_module_version": "1.2.0",
          "state": {
            "_model_module": "@jupyter-widgets/base",
            "_model_module_version": "1.2.0",
            "_model_name": "LayoutModel",
            "_view_count": null,
            "_view_module": "@jupyter-widgets/base",
            "_view_module_version": "1.2.0",
            "_view_name": "LayoutView",
            "align_content": null,
            "align_items": null,
            "align_self": null,
            "border": null,
            "bottom": null,
            "display": null,
            "flex": null,
            "flex_flow": null,
            "grid_area": null,
            "grid_auto_columns": null,
            "grid_auto_flow": null,
            "grid_auto_rows": null,
            "grid_column": null,
            "grid_gap": null,
            "grid_row": null,
            "grid_template_areas": null,
            "grid_template_columns": null,
            "grid_template_rows": null,
            "height": null,
            "justify_content": null,
            "justify_items": null,
            "left": null,
            "margin": null,
            "max_height": null,
            "max_width": null,
            "min_height": null,
            "min_width": null,
            "object_fit": null,
            "object_position": null,
            "order": null,
            "overflow": null,
            "overflow_x": null,
            "overflow_y": null,
            "padding": null,
            "right": null,
            "top": null,
            "visibility": null,
            "width": null
          }
        },
        "528dd619c2b540bc92874f3a5e43d9e7": {
          "model_module": "@jupyter-widgets/controls",
          "model_name": "DescriptionStyleModel",
          "model_module_version": "1.5.0",
          "state": {
            "_model_module": "@jupyter-widgets/controls",
            "_model_module_version": "1.5.0",
            "_model_name": "DescriptionStyleModel",
            "_view_count": null,
            "_view_module": "@jupyter-widgets/base",
            "_view_module_version": "1.2.0",
            "_view_name": "StyleView",
            "description_width": ""
          }
        },
        "28b500f29f534e35982704c2717ea064": {
          "model_module": "@jupyter-widgets/base",
          "model_name": "LayoutModel",
          "model_module_version": "1.2.0",
          "state": {
            "_model_module": "@jupyter-widgets/base",
            "_model_module_version": "1.2.0",
            "_model_name": "LayoutModel",
            "_view_count": null,
            "_view_module": "@jupyter-widgets/base",
            "_view_module_version": "1.2.0",
            "_view_name": "LayoutView",
            "align_content": null,
            "align_items": null,
            "align_self": null,
            "border": null,
            "bottom": null,
            "display": null,
            "flex": null,
            "flex_flow": null,
            "grid_area": null,
            "grid_auto_columns": null,
            "grid_auto_flow": null,
            "grid_auto_rows": null,
            "grid_column": null,
            "grid_gap": null,
            "grid_row": null,
            "grid_template_areas": null,
            "grid_template_columns": null,
            "grid_template_rows": null,
            "height": null,
            "justify_content": null,
            "justify_items": null,
            "left": null,
            "margin": null,
            "max_height": null,
            "max_width": null,
            "min_height": null,
            "min_width": null,
            "object_fit": null,
            "object_position": null,
            "order": null,
            "overflow": null,
            "overflow_x": null,
            "overflow_y": null,
            "padding": null,
            "right": null,
            "top": null,
            "visibility": null,
            "width": null
          }
        },
        "c97e434d123f4adfa763970498018d97": {
          "model_module": "@jupyter-widgets/controls",
          "model_name": "ProgressStyleModel",
          "model_module_version": "1.5.0",
          "state": {
            "_model_module": "@jupyter-widgets/controls",
            "_model_module_version": "1.5.0",
            "_model_name": "ProgressStyleModel",
            "_view_count": null,
            "_view_module": "@jupyter-widgets/base",
            "_view_module_version": "1.2.0",
            "_view_name": "StyleView",
            "bar_color": null,
            "description_width": ""
          }
        },
        "ee62ccd5cfce4484b483099fcfbac8b8": {
          "model_module": "@jupyter-widgets/base",
          "model_name": "LayoutModel",
          "model_module_version": "1.2.0",
          "state": {
            "_model_module": "@jupyter-widgets/base",
            "_model_module_version": "1.2.0",
            "_model_name": "LayoutModel",
            "_view_count": null,
            "_view_module": "@jupyter-widgets/base",
            "_view_module_version": "1.2.0",
            "_view_name": "LayoutView",
            "align_content": null,
            "align_items": null,
            "align_self": null,
            "border": null,
            "bottom": null,
            "display": null,
            "flex": null,
            "flex_flow": null,
            "grid_area": null,
            "grid_auto_columns": null,
            "grid_auto_flow": null,
            "grid_auto_rows": null,
            "grid_column": null,
            "grid_gap": null,
            "grid_row": null,
            "grid_template_areas": null,
            "grid_template_columns": null,
            "grid_template_rows": null,
            "height": null,
            "justify_content": null,
            "justify_items": null,
            "left": null,
            "margin": null,
            "max_height": null,
            "max_width": null,
            "min_height": null,
            "min_width": null,
            "object_fit": null,
            "object_position": null,
            "order": null,
            "overflow": null,
            "overflow_x": null,
            "overflow_y": null,
            "padding": null,
            "right": null,
            "top": null,
            "visibility": null,
            "width": null
          }
        },
        "642432d3748e46ae95e8476cc9c6c53b": {
          "model_module": "@jupyter-widgets/controls",
          "model_name": "DescriptionStyleModel",
          "model_module_version": "1.5.0",
          "state": {
            "_model_module": "@jupyter-widgets/controls",
            "_model_module_version": "1.5.0",
            "_model_name": "DescriptionStyleModel",
            "_view_count": null,
            "_view_module": "@jupyter-widgets/base",
            "_view_module_version": "1.2.0",
            "_view_name": "StyleView",
            "description_width": ""
          }
        },
        "01807dc4f2d5494494e8cd2a62205fb6": {
          "model_module": "@jupyter-widgets/controls",
          "model_name": "HBoxModel",
          "model_module_version": "1.5.0",
          "state": {
            "_dom_classes": [],
            "_model_module": "@jupyter-widgets/controls",
            "_model_module_version": "1.5.0",
            "_model_name": "HBoxModel",
            "_view_count": null,
            "_view_module": "@jupyter-widgets/controls",
            "_view_module_version": "1.5.0",
            "_view_name": "HBoxView",
            "box_style": "",
            "children": [
              "IPY_MODEL_4c3e89ac33674dbcbec79e067c9b5b6f",
              "IPY_MODEL_30ad398584c44c1d851eae3ffdf6ecce",
              "IPY_MODEL_5d710234376f44d99ef271cf7a29fd83"
            ],
            "layout": "IPY_MODEL_a496fa7a62f34737ac7a0cc0443a03a9"
          }
        },
        "4c3e89ac33674dbcbec79e067c9b5b6f": {
          "model_module": "@jupyter-widgets/controls",
          "model_name": "HTMLModel",
          "model_module_version": "1.5.0",
          "state": {
            "_dom_classes": [],
            "_model_module": "@jupyter-widgets/controls",
            "_model_module_version": "1.5.0",
            "_model_name": "HTMLModel",
            "_view_count": null,
            "_view_module": "@jupyter-widgets/controls",
            "_view_module_version": "1.5.0",
            "_view_name": "HTMLView",
            "description": "",
            "description_tooltip": null,
            "layout": "IPY_MODEL_c9c704ebbd0b4093a7715757f506fc6d",
            "placeholder": "​",
            "style": "IPY_MODEL_c3f402f5305740aeb05a82f3ba36bee1",
            "value": "special_tokens_map.json: 100%"
          }
        },
        "30ad398584c44c1d851eae3ffdf6ecce": {
          "model_module": "@jupyter-widgets/controls",
          "model_name": "FloatProgressModel",
          "model_module_version": "1.5.0",
          "state": {
            "_dom_classes": [],
            "_model_module": "@jupyter-widgets/controls",
            "_model_module_version": "1.5.0",
            "_model_name": "FloatProgressModel",
            "_view_count": null,
            "_view_module": "@jupyter-widgets/controls",
            "_view_module_version": "1.5.0",
            "_view_name": "ProgressView",
            "bar_style": "success",
            "description": "",
            "description_tooltip": null,
            "layout": "IPY_MODEL_8b807b8e351847339e3f6d96fbb4a930",
            "max": 483,
            "min": 0,
            "orientation": "horizontal",
            "style": "IPY_MODEL_757b706c8ad2413d96354b9726f38db6",
            "value": 483
          }
        },
        "5d710234376f44d99ef271cf7a29fd83": {
          "model_module": "@jupyter-widgets/controls",
          "model_name": "HTMLModel",
          "model_module_version": "1.5.0",
          "state": {
            "_dom_classes": [],
            "_model_module": "@jupyter-widgets/controls",
            "_model_module_version": "1.5.0",
            "_model_name": "HTMLModel",
            "_view_count": null,
            "_view_module": "@jupyter-widgets/controls",
            "_view_module_version": "1.5.0",
            "_view_name": "HTMLView",
            "description": "",
            "description_tooltip": null,
            "layout": "IPY_MODEL_75df4269b0b54f59851a694b0262bfc5",
            "placeholder": "​",
            "style": "IPY_MODEL_823b6eb353894d5a964edb0573406c9a",
            "value": " 483/483 [00:00&lt;00:00, 23.6kB/s]"
          }
        },
        "a496fa7a62f34737ac7a0cc0443a03a9": {
          "model_module": "@jupyter-widgets/base",
          "model_name": "LayoutModel",
          "model_module_version": "1.2.0",
          "state": {
            "_model_module": "@jupyter-widgets/base",
            "_model_module_version": "1.2.0",
            "_model_name": "LayoutModel",
            "_view_count": null,
            "_view_module": "@jupyter-widgets/base",
            "_view_module_version": "1.2.0",
            "_view_name": "LayoutView",
            "align_content": null,
            "align_items": null,
            "align_self": null,
            "border": null,
            "bottom": null,
            "display": null,
            "flex": null,
            "flex_flow": null,
            "grid_area": null,
            "grid_auto_columns": null,
            "grid_auto_flow": null,
            "grid_auto_rows": null,
            "grid_column": null,
            "grid_gap": null,
            "grid_row": null,
            "grid_template_areas": null,
            "grid_template_columns": null,
            "grid_template_rows": null,
            "height": null,
            "justify_content": null,
            "justify_items": null,
            "left": null,
            "margin": null,
            "max_height": null,
            "max_width": null,
            "min_height": null,
            "min_width": null,
            "object_fit": null,
            "object_position": null,
            "order": null,
            "overflow": null,
            "overflow_x": null,
            "overflow_y": null,
            "padding": null,
            "right": null,
            "top": null,
            "visibility": null,
            "width": null
          }
        },
        "c9c704ebbd0b4093a7715757f506fc6d": {
          "model_module": "@jupyter-widgets/base",
          "model_name": "LayoutModel",
          "model_module_version": "1.2.0",
          "state": {
            "_model_module": "@jupyter-widgets/base",
            "_model_module_version": "1.2.0",
            "_model_name": "LayoutModel",
            "_view_count": null,
            "_view_module": "@jupyter-widgets/base",
            "_view_module_version": "1.2.0",
            "_view_name": "LayoutView",
            "align_content": null,
            "align_items": null,
            "align_self": null,
            "border": null,
            "bottom": null,
            "display": null,
            "flex": null,
            "flex_flow": null,
            "grid_area": null,
            "grid_auto_columns": null,
            "grid_auto_flow": null,
            "grid_auto_rows": null,
            "grid_column": null,
            "grid_gap": null,
            "grid_row": null,
            "grid_template_areas": null,
            "grid_template_columns": null,
            "grid_template_rows": null,
            "height": null,
            "justify_content": null,
            "justify_items": null,
            "left": null,
            "margin": null,
            "max_height": null,
            "max_width": null,
            "min_height": null,
            "min_width": null,
            "object_fit": null,
            "object_position": null,
            "order": null,
            "overflow": null,
            "overflow_x": null,
            "overflow_y": null,
            "padding": null,
            "right": null,
            "top": null,
            "visibility": null,
            "width": null
          }
        },
        "c3f402f5305740aeb05a82f3ba36bee1": {
          "model_module": "@jupyter-widgets/controls",
          "model_name": "DescriptionStyleModel",
          "model_module_version": "1.5.0",
          "state": {
            "_model_module": "@jupyter-widgets/controls",
            "_model_module_version": "1.5.0",
            "_model_name": "DescriptionStyleModel",
            "_view_count": null,
            "_view_module": "@jupyter-widgets/base",
            "_view_module_version": "1.2.0",
            "_view_name": "StyleView",
            "description_width": ""
          }
        },
        "8b807b8e351847339e3f6d96fbb4a930": {
          "model_module": "@jupyter-widgets/base",
          "model_name": "LayoutModel",
          "model_module_version": "1.2.0",
          "state": {
            "_model_module": "@jupyter-widgets/base",
            "_model_module_version": "1.2.0",
            "_model_name": "LayoutModel",
            "_view_count": null,
            "_view_module": "@jupyter-widgets/base",
            "_view_module_version": "1.2.0",
            "_view_name": "LayoutView",
            "align_content": null,
            "align_items": null,
            "align_self": null,
            "border": null,
            "bottom": null,
            "display": null,
            "flex": null,
            "flex_flow": null,
            "grid_area": null,
            "grid_auto_columns": null,
            "grid_auto_flow": null,
            "grid_auto_rows": null,
            "grid_column": null,
            "grid_gap": null,
            "grid_row": null,
            "grid_template_areas": null,
            "grid_template_columns": null,
            "grid_template_rows": null,
            "height": null,
            "justify_content": null,
            "justify_items": null,
            "left": null,
            "margin": null,
            "max_height": null,
            "max_width": null,
            "min_height": null,
            "min_width": null,
            "object_fit": null,
            "object_position": null,
            "order": null,
            "overflow": null,
            "overflow_x": null,
            "overflow_y": null,
            "padding": null,
            "right": null,
            "top": null,
            "visibility": null,
            "width": null
          }
        },
        "757b706c8ad2413d96354b9726f38db6": {
          "model_module": "@jupyter-widgets/controls",
          "model_name": "ProgressStyleModel",
          "model_module_version": "1.5.0",
          "state": {
            "_model_module": "@jupyter-widgets/controls",
            "_model_module_version": "1.5.0",
            "_model_name": "ProgressStyleModel",
            "_view_count": null,
            "_view_module": "@jupyter-widgets/base",
            "_view_module_version": "1.2.0",
            "_view_name": "StyleView",
            "bar_color": null,
            "description_width": ""
          }
        },
        "75df4269b0b54f59851a694b0262bfc5": {
          "model_module": "@jupyter-widgets/base",
          "model_name": "LayoutModel",
          "model_module_version": "1.2.0",
          "state": {
            "_model_module": "@jupyter-widgets/base",
            "_model_module_version": "1.2.0",
            "_model_name": "LayoutModel",
            "_view_count": null,
            "_view_module": "@jupyter-widgets/base",
            "_view_module_version": "1.2.0",
            "_view_name": "LayoutView",
            "align_content": null,
            "align_items": null,
            "align_self": null,
            "border": null,
            "bottom": null,
            "display": null,
            "flex": null,
            "flex_flow": null,
            "grid_area": null,
            "grid_auto_columns": null,
            "grid_auto_flow": null,
            "grid_auto_rows": null,
            "grid_column": null,
            "grid_gap": null,
            "grid_row": null,
            "grid_template_areas": null,
            "grid_template_columns": null,
            "grid_template_rows": null,
            "height": null,
            "justify_content": null,
            "justify_items": null,
            "left": null,
            "margin": null,
            "max_height": null,
            "max_width": null,
            "min_height": null,
            "min_width": null,
            "object_fit": null,
            "object_position": null,
            "order": null,
            "overflow": null,
            "overflow_x": null,
            "overflow_y": null,
            "padding": null,
            "right": null,
            "top": null,
            "visibility": null,
            "width": null
          }
        },
        "823b6eb353894d5a964edb0573406c9a": {
          "model_module": "@jupyter-widgets/controls",
          "model_name": "DescriptionStyleModel",
          "model_module_version": "1.5.0",
          "state": {
            "_model_module": "@jupyter-widgets/controls",
            "_model_module_version": "1.5.0",
            "_model_name": "DescriptionStyleModel",
            "_view_count": null,
            "_view_module": "@jupyter-widgets/base",
            "_view_module_version": "1.2.0",
            "_view_name": "StyleView",
            "description_width": ""
          }
        },
        "a9780e8df9b14da59e9487ff1eb237bf": {
          "model_module": "@jupyter-widgets/controls",
          "model_name": "HBoxModel",
          "model_module_version": "1.5.0",
          "state": {
            "_dom_classes": [],
            "_model_module": "@jupyter-widgets/controls",
            "_model_module_version": "1.5.0",
            "_model_name": "HBoxModel",
            "_view_count": null,
            "_view_module": "@jupyter-widgets/controls",
            "_view_module_version": "1.5.0",
            "_view_name": "HBoxView",
            "box_style": "",
            "children": [
              "IPY_MODEL_07c9b5e54f78407f92f6fd52ffbab2b2",
              "IPY_MODEL_eb455c44316b4353b881bceb6a01e9b1",
              "IPY_MODEL_5a38d3a8ad77481697140cba4607d1f0"
            ],
            "layout": "IPY_MODEL_336ea590e3df474196f028ba30f4cec1"
          }
        },
        "07c9b5e54f78407f92f6fd52ffbab2b2": {
          "model_module": "@jupyter-widgets/controls",
          "model_name": "HTMLModel",
          "model_module_version": "1.5.0",
          "state": {
            "_dom_classes": [],
            "_model_module": "@jupyter-widgets/controls",
            "_model_module_version": "1.5.0",
            "_model_name": "HTMLModel",
            "_view_count": null,
            "_view_module": "@jupyter-widgets/controls",
            "_view_module_version": "1.5.0",
            "_view_name": "HTMLView",
            "description": "",
            "description_tooltip": null,
            "layout": "IPY_MODEL_e5926c0dda834548ac3e87ce8e4f2ac4",
            "placeholder": "​",
            "style": "IPY_MODEL_591ab2ca01764ca9b1a65c198ac8e051",
            "value": "tokenizer.json: 100%"
          }
        },
        "eb455c44316b4353b881bceb6a01e9b1": {
          "model_module": "@jupyter-widgets/controls",
          "model_name": "FloatProgressModel",
          "model_module_version": "1.5.0",
          "state": {
            "_dom_classes": [],
            "_model_module": "@jupyter-widgets/controls",
            "_model_module_version": "1.5.0",
            "_model_name": "FloatProgressModel",
            "_view_count": null,
            "_view_module": "@jupyter-widgets/controls",
            "_view_module_version": "1.5.0",
            "_view_name": "ProgressView",
            "bar_style": "success",
            "description": "",
            "description_tooltip": null,
            "layout": "IPY_MODEL_36d98fafdcc94ae99f17dced8436c579",
            "max": 17209530,
            "min": 0,
            "orientation": "horizontal",
            "style": "IPY_MODEL_b6acd0cfaba64c009c21a6019ba0825a",
            "value": 17209530
          }
        },
        "5a38d3a8ad77481697140cba4607d1f0": {
          "model_module": "@jupyter-widgets/controls",
          "model_name": "HTMLModel",
          "model_module_version": "1.5.0",
          "state": {
            "_dom_classes": [],
            "_model_module": "@jupyter-widgets/controls",
            "_model_module_version": "1.5.0",
            "_model_name": "HTMLModel",
            "_view_count": null,
            "_view_module": "@jupyter-widgets/controls",
            "_view_module_version": "1.5.0",
            "_view_name": "HTMLView",
            "description": "",
            "description_tooltip": null,
            "layout": "IPY_MODEL_41ab5b9039a1487688108b1d83ef019b",
            "placeholder": "​",
            "style": "IPY_MODEL_26c4c5ea6217439faed1cc41438e350a",
            "value": " 17.2M/17.2M [00:00&lt;00:00, 39.6MB/s]"
          }
        },
        "336ea590e3df474196f028ba30f4cec1": {
          "model_module": "@jupyter-widgets/base",
          "model_name": "LayoutModel",
          "model_module_version": "1.2.0",
          "state": {
            "_model_module": "@jupyter-widgets/base",
            "_model_module_version": "1.2.0",
            "_model_name": "LayoutModel",
            "_view_count": null,
            "_view_module": "@jupyter-widgets/base",
            "_view_module_version": "1.2.0",
            "_view_name": "LayoutView",
            "align_content": null,
            "align_items": null,
            "align_self": null,
            "border": null,
            "bottom": null,
            "display": null,
            "flex": null,
            "flex_flow": null,
            "grid_area": null,
            "grid_auto_columns": null,
            "grid_auto_flow": null,
            "grid_auto_rows": null,
            "grid_column": null,
            "grid_gap": null,
            "grid_row": null,
            "grid_template_areas": null,
            "grid_template_columns": null,
            "grid_template_rows": null,
            "height": null,
            "justify_content": null,
            "justify_items": null,
            "left": null,
            "margin": null,
            "max_height": null,
            "max_width": null,
            "min_height": null,
            "min_width": null,
            "object_fit": null,
            "object_position": null,
            "order": null,
            "overflow": null,
            "overflow_x": null,
            "overflow_y": null,
            "padding": null,
            "right": null,
            "top": null,
            "visibility": null,
            "width": null
          }
        },
        "e5926c0dda834548ac3e87ce8e4f2ac4": {
          "model_module": "@jupyter-widgets/base",
          "model_name": "LayoutModel",
          "model_module_version": "1.2.0",
          "state": {
            "_model_module": "@jupyter-widgets/base",
            "_model_module_version": "1.2.0",
            "_model_name": "LayoutModel",
            "_view_count": null,
            "_view_module": "@jupyter-widgets/base",
            "_view_module_version": "1.2.0",
            "_view_name": "LayoutView",
            "align_content": null,
            "align_items": null,
            "align_self": null,
            "border": null,
            "bottom": null,
            "display": null,
            "flex": null,
            "flex_flow": null,
            "grid_area": null,
            "grid_auto_columns": null,
            "grid_auto_flow": null,
            "grid_auto_rows": null,
            "grid_column": null,
            "grid_gap": null,
            "grid_row": null,
            "grid_template_areas": null,
            "grid_template_columns": null,
            "grid_template_rows": null,
            "height": null,
            "justify_content": null,
            "justify_items": null,
            "left": null,
            "margin": null,
            "max_height": null,
            "max_width": null,
            "min_height": null,
            "min_width": null,
            "object_fit": null,
            "object_position": null,
            "order": null,
            "overflow": null,
            "overflow_x": null,
            "overflow_y": null,
            "padding": null,
            "right": null,
            "top": null,
            "visibility": null,
            "width": null
          }
        },
        "591ab2ca01764ca9b1a65c198ac8e051": {
          "model_module": "@jupyter-widgets/controls",
          "model_name": "DescriptionStyleModel",
          "model_module_version": "1.5.0",
          "state": {
            "_model_module": "@jupyter-widgets/controls",
            "_model_module_version": "1.5.0",
            "_model_name": "DescriptionStyleModel",
            "_view_count": null,
            "_view_module": "@jupyter-widgets/base",
            "_view_module_version": "1.2.0",
            "_view_name": "StyleView",
            "description_width": ""
          }
        },
        "36d98fafdcc94ae99f17dced8436c579": {
          "model_module": "@jupyter-widgets/base",
          "model_name": "LayoutModel",
          "model_module_version": "1.2.0",
          "state": {
            "_model_module": "@jupyter-widgets/base",
            "_model_module_version": "1.2.0",
            "_model_name": "LayoutModel",
            "_view_count": null,
            "_view_module": "@jupyter-widgets/base",
            "_view_module_version": "1.2.0",
            "_view_name": "LayoutView",
            "align_content": null,
            "align_items": null,
            "align_self": null,
            "border": null,
            "bottom": null,
            "display": null,
            "flex": null,
            "flex_flow": null,
            "grid_area": null,
            "grid_auto_columns": null,
            "grid_auto_flow": null,
            "grid_auto_rows": null,
            "grid_column": null,
            "grid_gap": null,
            "grid_row": null,
            "grid_template_areas": null,
            "grid_template_columns": null,
            "grid_template_rows": null,
            "height": null,
            "justify_content": null,
            "justify_items": null,
            "left": null,
            "margin": null,
            "max_height": null,
            "max_width": null,
            "min_height": null,
            "min_width": null,
            "object_fit": null,
            "object_position": null,
            "order": null,
            "overflow": null,
            "overflow_x": null,
            "overflow_y": null,
            "padding": null,
            "right": null,
            "top": null,
            "visibility": null,
            "width": null
          }
        },
        "b6acd0cfaba64c009c21a6019ba0825a": {
          "model_module": "@jupyter-widgets/controls",
          "model_name": "ProgressStyleModel",
          "model_module_version": "1.5.0",
          "state": {
            "_model_module": "@jupyter-widgets/controls",
            "_model_module_version": "1.5.0",
            "_model_name": "ProgressStyleModel",
            "_view_count": null,
            "_view_module": "@jupyter-widgets/base",
            "_view_module_version": "1.2.0",
            "_view_name": "StyleView",
            "bar_color": null,
            "description_width": ""
          }
        },
        "41ab5b9039a1487688108b1d83ef019b": {
          "model_module": "@jupyter-widgets/base",
          "model_name": "LayoutModel",
          "model_module_version": "1.2.0",
          "state": {
            "_model_module": "@jupyter-widgets/base",
            "_model_module_version": "1.2.0",
            "_model_name": "LayoutModel",
            "_view_count": null,
            "_view_module": "@jupyter-widgets/base",
            "_view_module_version": "1.2.0",
            "_view_name": "LayoutView",
            "align_content": null,
            "align_items": null,
            "align_self": null,
            "border": null,
            "bottom": null,
            "display": null,
            "flex": null,
            "flex_flow": null,
            "grid_area": null,
            "grid_auto_columns": null,
            "grid_auto_flow": null,
            "grid_auto_rows": null,
            "grid_column": null,
            "grid_gap": null,
            "grid_row": null,
            "grid_template_areas": null,
            "grid_template_columns": null,
            "grid_template_rows": null,
            "height": null,
            "justify_content": null,
            "justify_items": null,
            "left": null,
            "margin": null,
            "max_height": null,
            "max_width": null,
            "min_height": null,
            "min_width": null,
            "object_fit": null,
            "object_position": null,
            "order": null,
            "overflow": null,
            "overflow_x": null,
            "overflow_y": null,
            "padding": null,
            "right": null,
            "top": null,
            "visibility": null,
            "width": null
          }
        },
        "26c4c5ea6217439faed1cc41438e350a": {
          "model_module": "@jupyter-widgets/controls",
          "model_name": "DescriptionStyleModel",
          "model_module_version": "1.5.0",
          "state": {
            "_model_module": "@jupyter-widgets/controls",
            "_model_module_version": "1.5.0",
            "_model_name": "DescriptionStyleModel",
            "_view_count": null,
            "_view_module": "@jupyter-widgets/base",
            "_view_module_version": "1.2.0",
            "_view_name": "StyleView",
            "description_width": ""
          }
        },
        "3dbe8f12b0d14355886a9dcccf5e1559": {
          "model_module": "@jupyter-widgets/controls",
          "model_name": "HBoxModel",
          "model_module_version": "1.5.0",
          "state": {
            "_dom_classes": [],
            "_model_module": "@jupyter-widgets/controls",
            "_model_module_version": "1.5.0",
            "_model_name": "HBoxModel",
            "_view_count": null,
            "_view_module": "@jupyter-widgets/controls",
            "_view_module_version": "1.5.0",
            "_view_name": "HBoxView",
            "box_style": "",
            "children": [
              "IPY_MODEL_6fce31e00beb4ba8b04e0b7f622095cd",
              "IPY_MODEL_bf0a4300d89944d08bedb8b7d0b8ceac",
              "IPY_MODEL_3bd8fcf7c5314d4db056ad39f1e07243"
            ],
            "layout": "IPY_MODEL_0d8d5c6db18244e09dbdfec5fd2aea5a"
          }
        },
        "6fce31e00beb4ba8b04e0b7f622095cd": {
          "model_module": "@jupyter-widgets/controls",
          "model_name": "HTMLModel",
          "model_module_version": "1.5.0",
          "state": {
            "_dom_classes": [],
            "_model_module": "@jupyter-widgets/controls",
            "_model_module_version": "1.5.0",
            "_model_name": "HTMLModel",
            "_view_count": null,
            "_view_module": "@jupyter-widgets/controls",
            "_view_module_version": "1.5.0",
            "_view_name": "HTMLView",
            "description": "",
            "description_tooltip": null,
            "layout": "IPY_MODEL_3982467576ab44d6a771957809b04563",
            "placeholder": "​",
            "style": "IPY_MODEL_3e86decfe993433686ff1478077f29ab",
            "value": "Map: 100%"
          }
        },
        "bf0a4300d89944d08bedb8b7d0b8ceac": {
          "model_module": "@jupyter-widgets/controls",
          "model_name": "FloatProgressModel",
          "model_module_version": "1.5.0",
          "state": {
            "_dom_classes": [],
            "_model_module": "@jupyter-widgets/controls",
            "_model_module_version": "1.5.0",
            "_model_name": "FloatProgressModel",
            "_view_count": null,
            "_view_module": "@jupyter-widgets/controls",
            "_view_module_version": "1.5.0",
            "_view_name": "ProgressView",
            "bar_style": "success",
            "description": "",
            "description_tooltip": null,
            "layout": "IPY_MODEL_d0387a5868864ab5aa2991d7f517b178",
            "max": 333,
            "min": 0,
            "orientation": "horizontal",
            "style": "IPY_MODEL_25ac73989e804674be9780071998841d",
            "value": 333
          }
        },
        "3bd8fcf7c5314d4db056ad39f1e07243": {
          "model_module": "@jupyter-widgets/controls",
          "model_name": "HTMLModel",
          "model_module_version": "1.5.0",
          "state": {
            "_dom_classes": [],
            "_model_module": "@jupyter-widgets/controls",
            "_model_module_version": "1.5.0",
            "_model_name": "HTMLModel",
            "_view_count": null,
            "_view_module": "@jupyter-widgets/controls",
            "_view_module_version": "1.5.0",
            "_view_name": "HTMLView",
            "description": "",
            "description_tooltip": null,
            "layout": "IPY_MODEL_d437e4d3d15b4ca2a6dd3cd9cb3835a0",
            "placeholder": "​",
            "style": "IPY_MODEL_c310ec1a909d4fb5a3737f1f2b7d0d96",
            "value": " 333/333 [00:00&lt;00:00, 3149.52 examples/s]"
          }
        },
        "0d8d5c6db18244e09dbdfec5fd2aea5a": {
          "model_module": "@jupyter-widgets/base",
          "model_name": "LayoutModel",
          "model_module_version": "1.2.0",
          "state": {
            "_model_module": "@jupyter-widgets/base",
            "_model_module_version": "1.2.0",
            "_model_name": "LayoutModel",
            "_view_count": null,
            "_view_module": "@jupyter-widgets/base",
            "_view_module_version": "1.2.0",
            "_view_name": "LayoutView",
            "align_content": null,
            "align_items": null,
            "align_self": null,
            "border": null,
            "bottom": null,
            "display": null,
            "flex": null,
            "flex_flow": null,
            "grid_area": null,
            "grid_auto_columns": null,
            "grid_auto_flow": null,
            "grid_auto_rows": null,
            "grid_column": null,
            "grid_gap": null,
            "grid_row": null,
            "grid_template_areas": null,
            "grid_template_columns": null,
            "grid_template_rows": null,
            "height": null,
            "justify_content": null,
            "justify_items": null,
            "left": null,
            "margin": null,
            "max_height": null,
            "max_width": null,
            "min_height": null,
            "min_width": null,
            "object_fit": null,
            "object_position": null,
            "order": null,
            "overflow": null,
            "overflow_x": null,
            "overflow_y": null,
            "padding": null,
            "right": null,
            "top": null,
            "visibility": null,
            "width": null
          }
        },
        "3982467576ab44d6a771957809b04563": {
          "model_module": "@jupyter-widgets/base",
          "model_name": "LayoutModel",
          "model_module_version": "1.2.0",
          "state": {
            "_model_module": "@jupyter-widgets/base",
            "_model_module_version": "1.2.0",
            "_model_name": "LayoutModel",
            "_view_count": null,
            "_view_module": "@jupyter-widgets/base",
            "_view_module_version": "1.2.0",
            "_view_name": "LayoutView",
            "align_content": null,
            "align_items": null,
            "align_self": null,
            "border": null,
            "bottom": null,
            "display": null,
            "flex": null,
            "flex_flow": null,
            "grid_area": null,
            "grid_auto_columns": null,
            "grid_auto_flow": null,
            "grid_auto_rows": null,
            "grid_column": null,
            "grid_gap": null,
            "grid_row": null,
            "grid_template_areas": null,
            "grid_template_columns": null,
            "grid_template_rows": null,
            "height": null,
            "justify_content": null,
            "justify_items": null,
            "left": null,
            "margin": null,
            "max_height": null,
            "max_width": null,
            "min_height": null,
            "min_width": null,
            "object_fit": null,
            "object_position": null,
            "order": null,
            "overflow": null,
            "overflow_x": null,
            "overflow_y": null,
            "padding": null,
            "right": null,
            "top": null,
            "visibility": null,
            "width": null
          }
        },
        "3e86decfe993433686ff1478077f29ab": {
          "model_module": "@jupyter-widgets/controls",
          "model_name": "DescriptionStyleModel",
          "model_module_version": "1.5.0",
          "state": {
            "_model_module": "@jupyter-widgets/controls",
            "_model_module_version": "1.5.0",
            "_model_name": "DescriptionStyleModel",
            "_view_count": null,
            "_view_module": "@jupyter-widgets/base",
            "_view_module_version": "1.2.0",
            "_view_name": "StyleView",
            "description_width": ""
          }
        },
        "d0387a5868864ab5aa2991d7f517b178": {
          "model_module": "@jupyter-widgets/base",
          "model_name": "LayoutModel",
          "model_module_version": "1.2.0",
          "state": {
            "_model_module": "@jupyter-widgets/base",
            "_model_module_version": "1.2.0",
            "_model_name": "LayoutModel",
            "_view_count": null,
            "_view_module": "@jupyter-widgets/base",
            "_view_module_version": "1.2.0",
            "_view_name": "LayoutView",
            "align_content": null,
            "align_items": null,
            "align_self": null,
            "border": null,
            "bottom": null,
            "display": null,
            "flex": null,
            "flex_flow": null,
            "grid_area": null,
            "grid_auto_columns": null,
            "grid_auto_flow": null,
            "grid_auto_rows": null,
            "grid_column": null,
            "grid_gap": null,
            "grid_row": null,
            "grid_template_areas": null,
            "grid_template_columns": null,
            "grid_template_rows": null,
            "height": null,
            "justify_content": null,
            "justify_items": null,
            "left": null,
            "margin": null,
            "max_height": null,
            "max_width": null,
            "min_height": null,
            "min_width": null,
            "object_fit": null,
            "object_position": null,
            "order": null,
            "overflow": null,
            "overflow_x": null,
            "overflow_y": null,
            "padding": null,
            "right": null,
            "top": null,
            "visibility": null,
            "width": null
          }
        },
        "25ac73989e804674be9780071998841d": {
          "model_module": "@jupyter-widgets/controls",
          "model_name": "ProgressStyleModel",
          "model_module_version": "1.5.0",
          "state": {
            "_model_module": "@jupyter-widgets/controls",
            "_model_module_version": "1.5.0",
            "_model_name": "ProgressStyleModel",
            "_view_count": null,
            "_view_module": "@jupyter-widgets/base",
            "_view_module_version": "1.2.0",
            "_view_name": "StyleView",
            "bar_color": null,
            "description_width": ""
          }
        },
        "d437e4d3d15b4ca2a6dd3cd9cb3835a0": {
          "model_module": "@jupyter-widgets/base",
          "model_name": "LayoutModel",
          "model_module_version": "1.2.0",
          "state": {
            "_model_module": "@jupyter-widgets/base",
            "_model_module_version": "1.2.0",
            "_model_name": "LayoutModel",
            "_view_count": null,
            "_view_module": "@jupyter-widgets/base",
            "_view_module_version": "1.2.0",
            "_view_name": "LayoutView",
            "align_content": null,
            "align_items": null,
            "align_self": null,
            "border": null,
            "bottom": null,
            "display": null,
            "flex": null,
            "flex_flow": null,
            "grid_area": null,
            "grid_auto_columns": null,
            "grid_auto_flow": null,
            "grid_auto_rows": null,
            "grid_column": null,
            "grid_gap": null,
            "grid_row": null,
            "grid_template_areas": null,
            "grid_template_columns": null,
            "grid_template_rows": null,
            "height": null,
            "justify_content": null,
            "justify_items": null,
            "left": null,
            "margin": null,
            "max_height": null,
            "max_width": null,
            "min_height": null,
            "min_width": null,
            "object_fit": null,
            "object_position": null,
            "order": null,
            "overflow": null,
            "overflow_x": null,
            "overflow_y": null,
            "padding": null,
            "right": null,
            "top": null,
            "visibility": null,
            "width": null
          }
        },
        "c310ec1a909d4fb5a3737f1f2b7d0d96": {
          "model_module": "@jupyter-widgets/controls",
          "model_name": "DescriptionStyleModel",
          "model_module_version": "1.5.0",
          "state": {
            "_model_module": "@jupyter-widgets/controls",
            "_model_module_version": "1.5.0",
            "_model_name": "DescriptionStyleModel",
            "_view_count": null,
            "_view_module": "@jupyter-widgets/base",
            "_view_module_version": "1.2.0",
            "_view_name": "StyleView",
            "description_width": ""
          }
        },
        "42df44571f984094b9f050f63b9dd98d": {
          "model_module": "@jupyter-widgets/controls",
          "model_name": "HBoxModel",
          "model_module_version": "1.5.0",
          "state": {
            "_dom_classes": [],
            "_model_module": "@jupyter-widgets/controls",
            "_model_module_version": "1.5.0",
            "_model_name": "HBoxModel",
            "_view_count": null,
            "_view_module": "@jupyter-widgets/controls",
            "_view_module_version": "1.5.0",
            "_view_name": "HBoxView",
            "box_style": "",
            "children": [
              "IPY_MODEL_31b888387e61496ab4803ee1a65342c3",
              "IPY_MODEL_3f6fc88b992048d293f36f4a59ec26ab",
              "IPY_MODEL_fee34f9439c845d9bc0f3dca41b99395"
            ],
            "layout": "IPY_MODEL_bf487d69d1154cfca96c50e4d7c903c2"
          }
        },
        "31b888387e61496ab4803ee1a65342c3": {
          "model_module": "@jupyter-widgets/controls",
          "model_name": "HTMLModel",
          "model_module_version": "1.5.0",
          "state": {
            "_dom_classes": [],
            "_model_module": "@jupyter-widgets/controls",
            "_model_module_version": "1.5.0",
            "_model_name": "HTMLModel",
            "_view_count": null,
            "_view_module": "@jupyter-widgets/controls",
            "_view_module_version": "1.5.0",
            "_view_name": "HTMLView",
            "description": "",
            "description_tooltip": null,
            "layout": "IPY_MODEL_92a8ba71c6d74f4d8133d854581a6fe2",
            "placeholder": "​",
            "style": "IPY_MODEL_799e21798b05458a971ebf41ad720756",
            "value": "Map (num_proc=2): 100%"
          }
        },
        "3f6fc88b992048d293f36f4a59ec26ab": {
          "model_module": "@jupyter-widgets/controls",
          "model_name": "FloatProgressModel",
          "model_module_version": "1.5.0",
          "state": {
            "_dom_classes": [],
            "_model_module": "@jupyter-widgets/controls",
            "_model_module_version": "1.5.0",
            "_model_name": "FloatProgressModel",
            "_view_count": null,
            "_view_module": "@jupyter-widgets/controls",
            "_view_module_version": "1.5.0",
            "_view_name": "ProgressView",
            "bar_style": "success",
            "description": "",
            "description_tooltip": null,
            "layout": "IPY_MODEL_5ccd8d8bef0e411a8b14156341791ce5",
            "max": 333,
            "min": 0,
            "orientation": "horizontal",
            "style": "IPY_MODEL_ad62f6e643024cd7b8873845c41557f6",
            "value": 333
          }
        },
        "fee34f9439c845d9bc0f3dca41b99395": {
          "model_module": "@jupyter-widgets/controls",
          "model_name": "HTMLModel",
          "model_module_version": "1.5.0",
          "state": {
            "_dom_classes": [],
            "_model_module": "@jupyter-widgets/controls",
            "_model_module_version": "1.5.0",
            "_model_name": "HTMLModel",
            "_view_count": null,
            "_view_module": "@jupyter-widgets/controls",
            "_view_module_version": "1.5.0",
            "_view_name": "HTMLView",
            "description": "",
            "description_tooltip": null,
            "layout": "IPY_MODEL_94217363f5af41a38cc64e1a5dc9f390",
            "placeholder": "​",
            "style": "IPY_MODEL_3655fd277796488ba078cdf2fe57aa76",
            "value": " 333/333 [00:05&lt;00:00, 75.66 examples/s]"
          }
        },
        "bf487d69d1154cfca96c50e4d7c903c2": {
          "model_module": "@jupyter-widgets/base",
          "model_name": "LayoutModel",
          "model_module_version": "1.2.0",
          "state": {
            "_model_module": "@jupyter-widgets/base",
            "_model_module_version": "1.2.0",
            "_model_name": "LayoutModel",
            "_view_count": null,
            "_view_module": "@jupyter-widgets/base",
            "_view_module_version": "1.2.0",
            "_view_name": "LayoutView",
            "align_content": null,
            "align_items": null,
            "align_self": null,
            "border": null,
            "bottom": null,
            "display": null,
            "flex": null,
            "flex_flow": null,
            "grid_area": null,
            "grid_auto_columns": null,
            "grid_auto_flow": null,
            "grid_auto_rows": null,
            "grid_column": null,
            "grid_gap": null,
            "grid_row": null,
            "grid_template_areas": null,
            "grid_template_columns": null,
            "grid_template_rows": null,
            "height": null,
            "justify_content": null,
            "justify_items": null,
            "left": null,
            "margin": null,
            "max_height": null,
            "max_width": null,
            "min_height": null,
            "min_width": null,
            "object_fit": null,
            "object_position": null,
            "order": null,
            "overflow": null,
            "overflow_x": null,
            "overflow_y": null,
            "padding": null,
            "right": null,
            "top": null,
            "visibility": null,
            "width": null
          }
        },
        "92a8ba71c6d74f4d8133d854581a6fe2": {
          "model_module": "@jupyter-widgets/base",
          "model_name": "LayoutModel",
          "model_module_version": "1.2.0",
          "state": {
            "_model_module": "@jupyter-widgets/base",
            "_model_module_version": "1.2.0",
            "_model_name": "LayoutModel",
            "_view_count": null,
            "_view_module": "@jupyter-widgets/base",
            "_view_module_version": "1.2.0",
            "_view_name": "LayoutView",
            "align_content": null,
            "align_items": null,
            "align_self": null,
            "border": null,
            "bottom": null,
            "display": null,
            "flex": null,
            "flex_flow": null,
            "grid_area": null,
            "grid_auto_columns": null,
            "grid_auto_flow": null,
            "grid_auto_rows": null,
            "grid_column": null,
            "grid_gap": null,
            "grid_row": null,
            "grid_template_areas": null,
            "grid_template_columns": null,
            "grid_template_rows": null,
            "height": null,
            "justify_content": null,
            "justify_items": null,
            "left": null,
            "margin": null,
            "max_height": null,
            "max_width": null,
            "min_height": null,
            "min_width": null,
            "object_fit": null,
            "object_position": null,
            "order": null,
            "overflow": null,
            "overflow_x": null,
            "overflow_y": null,
            "padding": null,
            "right": null,
            "top": null,
            "visibility": null,
            "width": null
          }
        },
        "799e21798b05458a971ebf41ad720756": {
          "model_module": "@jupyter-widgets/controls",
          "model_name": "DescriptionStyleModel",
          "model_module_version": "1.5.0",
          "state": {
            "_model_module": "@jupyter-widgets/controls",
            "_model_module_version": "1.5.0",
            "_model_name": "DescriptionStyleModel",
            "_view_count": null,
            "_view_module": "@jupyter-widgets/base",
            "_view_module_version": "1.2.0",
            "_view_name": "StyleView",
            "description_width": ""
          }
        },
        "5ccd8d8bef0e411a8b14156341791ce5": {
          "model_module": "@jupyter-widgets/base",
          "model_name": "LayoutModel",
          "model_module_version": "1.2.0",
          "state": {
            "_model_module": "@jupyter-widgets/base",
            "_model_module_version": "1.2.0",
            "_model_name": "LayoutModel",
            "_view_count": null,
            "_view_module": "@jupyter-widgets/base",
            "_view_module_version": "1.2.0",
            "_view_name": "LayoutView",
            "align_content": null,
            "align_items": null,
            "align_self": null,
            "border": null,
            "bottom": null,
            "display": null,
            "flex": null,
            "flex_flow": null,
            "grid_area": null,
            "grid_auto_columns": null,
            "grid_auto_flow": null,
            "grid_auto_rows": null,
            "grid_column": null,
            "grid_gap": null,
            "grid_row": null,
            "grid_template_areas": null,
            "grid_template_columns": null,
            "grid_template_rows": null,
            "height": null,
            "justify_content": null,
            "justify_items": null,
            "left": null,
            "margin": null,
            "max_height": null,
            "max_width": null,
            "min_height": null,
            "min_width": null,
            "object_fit": null,
            "object_position": null,
            "order": null,
            "overflow": null,
            "overflow_x": null,
            "overflow_y": null,
            "padding": null,
            "right": null,
            "top": null,
            "visibility": null,
            "width": null
          }
        },
        "ad62f6e643024cd7b8873845c41557f6": {
          "model_module": "@jupyter-widgets/controls",
          "model_name": "ProgressStyleModel",
          "model_module_version": "1.5.0",
          "state": {
            "_model_module": "@jupyter-widgets/controls",
            "_model_module_version": "1.5.0",
            "_model_name": "ProgressStyleModel",
            "_view_count": null,
            "_view_module": "@jupyter-widgets/base",
            "_view_module_version": "1.2.0",
            "_view_name": "StyleView",
            "bar_color": null,
            "description_width": ""
          }
        },
        "94217363f5af41a38cc64e1a5dc9f390": {
          "model_module": "@jupyter-widgets/base",
          "model_name": "LayoutModel",
          "model_module_version": "1.2.0",
          "state": {
            "_model_module": "@jupyter-widgets/base",
            "_model_module_version": "1.2.0",
            "_model_name": "LayoutModel",
            "_view_count": null,
            "_view_module": "@jupyter-widgets/base",
            "_view_module_version": "1.2.0",
            "_view_name": "LayoutView",
            "align_content": null,
            "align_items": null,
            "align_self": null,
            "border": null,
            "bottom": null,
            "display": null,
            "flex": null,
            "flex_flow": null,
            "grid_area": null,
            "grid_auto_columns": null,
            "grid_auto_flow": null,
            "grid_auto_rows": null,
            "grid_column": null,
            "grid_gap": null,
            "grid_row": null,
            "grid_template_areas": null,
            "grid_template_columns": null,
            "grid_template_rows": null,
            "height": null,
            "justify_content": null,
            "justify_items": null,
            "left": null,
            "margin": null,
            "max_height": null,
            "max_width": null,
            "min_height": null,
            "min_width": null,
            "object_fit": null,
            "object_position": null,
            "order": null,
            "overflow": null,
            "overflow_x": null,
            "overflow_y": null,
            "padding": null,
            "right": null,
            "top": null,
            "visibility": null,
            "width": null
          }
        },
        "3655fd277796488ba078cdf2fe57aa76": {
          "model_module": "@jupyter-widgets/controls",
          "model_name": "DescriptionStyleModel",
          "model_module_version": "1.5.0",
          "state": {
            "_model_module": "@jupyter-widgets/controls",
            "_model_module_version": "1.5.0",
            "_model_name": "DescriptionStyleModel",
            "_view_count": null,
            "_view_module": "@jupyter-widgets/base",
            "_view_module_version": "1.2.0",
            "_view_name": "StyleView",
            "description_width": ""
          }
        }
      }
    }
  },
  "cells": [
    {
      "cell_type": "markdown",
      "metadata": {
        "id": "view-in-github",
        "colab_type": "text"
      },
      "source": [
        "<a href=\"https://colab.research.google.com/github/0xZee/DeepSeek-R1-FineTuning/blob/main/finetune_deepseek_R1_8b_QuantumMechanics.ipynb\" target=\"_parent\"><img src=\"https://colab.research.google.com/assets/colab-badge.svg\" alt=\"Open In Colab\"/></a>"
      ]
    },
    {
      "cell_type": "markdown",
      "source": [
        "# `Fine-Tuning DeepSeek R1`\n",
        "- Distilled Model : `DeepSeek-R1-Distill-Llama-8B`\n",
        "- Dataset CoT : `Science CoT Dataset`\n",
        "- LoRA 4bit Quantazisation"
      ],
      "metadata": {
        "id": "8-293UJ-NaZ2"
      }
    },
    {
      "cell_type": "code",
      "execution_count": null,
      "metadata": {
        "id": "ygupZljJDqzN"
      },
      "outputs": [],
      "source": [
        "%%capture\n",
        "\n",
        "!pip install unsloth\n",
        "!pip install --force-reinstall --no-cache-dir --no-deps git+https://github.com/unslothai/unsloth.git"
      ]
    },
    {
      "cell_type": "code",
      "source": [
        "#!pip install transformers datasets accelerate bitsandbytes peft trl\n",
        "#!pip install --upgrade torchvision torchaudio\n",
        "#!pip install unsloth\n",
        "#!pip install --force-reinstall --no-cache-dir --no-deps git+https://github.com/unslothai/unsloth.git"
      ],
      "metadata": {
        "id": "-Ji8OmbwLjjN"
      },
      "execution_count": null,
      "outputs": []
    },
    {
      "cell_type": "code",
      "source": [
        "#%%capture\n",
        "#!pip install \"unsloth[colab-new] @ git+https://github.com/unslothai/unsloth.git\"\n",
        "#!pip install --no-deps \"trl<0.9.0\" peft accelerate bitsandbytes"
      ],
      "metadata": {
        "id": "3-xKdWtPIlDP"
      },
      "execution_count": null,
      "outputs": []
    },
    {
      "cell_type": "code",
      "source": [
        "from google.colab import userdata\n",
        "\n",
        "# HF and W&B tokens\n",
        "WANDB_TOKEN = userdata.get('WANDB_TOKEN')\n",
        "HF_TOKEN = userdata.get('HF_TOKEN')"
      ],
      "metadata": {
        "id": "N6ABh7lDDvgs"
      },
      "execution_count": null,
      "outputs": []
    },
    {
      "cell_type": "code",
      "source": [
        "from huggingface_hub import login\n",
        "\n",
        "login(HF_TOKEN)"
      ],
      "metadata": {
        "id": "J5nmXqoKMWjZ"
      },
      "execution_count": null,
      "outputs": []
    },
    {
      "cell_type": "code",
      "source": [
        "import wandb\n",
        "\n",
        "wandb.login(key=WANDB_TOKEN)\n",
        "run = wandb.init(\n",
        "    project='Fine-tune-DeepSeek-R1-Distill-Llama-8B',\n",
        "    job_type=\"training\",\n",
        "    anonymous=\"allow\"\n",
        ")"
      ],
      "metadata": {
        "colab": {
          "base_uri": "https://localhost:8080/",
          "height": 211
        },
        "id": "4vNk-lXaJ8x9",
        "outputId": "899c3e1a-e213-4cd5-c7de-0b51b5a7f038"
      },
      "execution_count": null,
      "outputs": [
        {
          "output_type": "stream",
          "name": "stderr",
          "text": [
            "\u001b[34m\u001b[1mwandb\u001b[0m: \u001b[33mWARNING\u001b[0m If you're specifying your api key in code, ensure this code is not shared publicly.\n",
            "\u001b[34m\u001b[1mwandb\u001b[0m: \u001b[33mWARNING\u001b[0m Consider setting the WANDB_API_KEY environment variable, or running `wandb login` from the command line.\n",
            "\u001b[34m\u001b[1mwandb\u001b[0m: Appending key for api.wandb.ai to your netrc file: /root/.netrc\n",
            "\u001b[34m\u001b[1mwandb\u001b[0m: Currently logged in as: \u001b[33moxzee\u001b[0m (\u001b[33moxzee-dev\u001b[0m) to \u001b[32mhttps://api.wandb.ai\u001b[0m. Use \u001b[1m`wandb login --relogin`\u001b[0m to force relogin\n",
            "\u001b[34m\u001b[1mwandb\u001b[0m: Using wandb-core as the SDK backend.  Please refer to https://wandb.me/wandb-core for more information.\n"
          ]
        },
        {
          "output_type": "display_data",
          "data": {
            "text/plain": [
              "<IPython.core.display.HTML object>"
            ],
            "text/html": [
              "Tracking run with wandb version 0.19.6"
            ]
          },
          "metadata": {}
        },
        {
          "output_type": "display_data",
          "data": {
            "text/plain": [
              "<IPython.core.display.HTML object>"
            ],
            "text/html": [
              "Run data is saved locally in <code>/content/wandb/run-20250209_193243-ir4vkfv9</code>"
            ]
          },
          "metadata": {}
        },
        {
          "output_type": "display_data",
          "data": {
            "text/plain": [
              "<IPython.core.display.HTML object>"
            ],
            "text/html": [
              "Syncing run <strong><a href='https://wandb.ai/oxzee-dev/Fine-tune-DeepSeek-R1-Distill-Llama-8B/runs/ir4vkfv9?apiKey=154d9ec374d80da3aac6f8c8077fae602dc6bfb0' target=\"_blank\">zesty-night-4</a></strong> to <a href='https://wandb.ai/oxzee-dev/Fine-tune-DeepSeek-R1-Distill-Llama-8B?apiKey=154d9ec374d80da3aac6f8c8077fae602dc6bfb0' target=\"_blank\">Weights & Biases</a> (<a href='https://wandb.me/developer-guide' target=\"_blank\">docs</a>)<br>"
            ]
          },
          "metadata": {}
        },
        {
          "output_type": "display_data",
          "data": {
            "text/plain": [
              "<IPython.core.display.HTML object>"
            ],
            "text/html": [
              " View project at <a href='https://wandb.ai/oxzee-dev/Fine-tune-DeepSeek-R1-Distill-Llama-8B?apiKey=154d9ec374d80da3aac6f8c8077fae602dc6bfb0' target=\"_blank\">https://wandb.ai/oxzee-dev/Fine-tune-DeepSeek-R1-Distill-Llama-8B?apiKey=154d9ec374d80da3aac6f8c8077fae602dc6bfb0</a>"
            ]
          },
          "metadata": {}
        },
        {
          "output_type": "display_data",
          "data": {
            "text/plain": [
              "<IPython.core.display.HTML object>"
            ],
            "text/html": [
              " View run at <a href='https://wandb.ai/oxzee-dev/Fine-tune-DeepSeek-R1-Distill-Llama-8B/runs/ir4vkfv9?apiKey=154d9ec374d80da3aac6f8c8077fae602dc6bfb0' target=\"_blank\">https://wandb.ai/oxzee-dev/Fine-tune-DeepSeek-R1-Distill-Llama-8B/runs/ir4vkfv9?apiKey=154d9ec374d80da3aac6f8c8077fae602dc6bfb0</a>"
            ]
          },
          "metadata": {}
        },
        {
          "output_type": "display_data",
          "data": {
            "text/plain": [
              "<IPython.core.display.HTML object>"
            ],
            "text/html": [
              "Do NOT share these links with anyone. They can be used to claim your runs."
            ]
          },
          "metadata": {}
        }
      ]
    },
    {
      "cell_type": "code",
      "source": [],
      "metadata": {
        "id": "TnhEqwokgkD-"
      },
      "execution_count": null,
      "outputs": []
    },
    {
      "cell_type": "markdown",
      "source": [
        "# `Datasets Preps`"
      ],
      "metadata": {
        "id": "yBOXcLUUUC0k"
      }
    },
    {
      "cell_type": "code",
      "source": [
        "!pip install datasets"
      ],
      "metadata": {
        "id": "w-OzKMvylaxH"
      },
      "execution_count": null,
      "outputs": []
    },
    {
      "cell_type": "code",
      "source": [
        "from datasets import get_dataset_config_names\n",
        "from datasets import load_dataset_builder\n",
        "\n",
        "configs = get_dataset_config_names('EricLu/SCP-116K')\n",
        "ds_builder = load_dataset_builder('EricLu/SCP-116K')\n",
        "print(\"# config :\\n\", configs)\n",
        "\n",
        "print(\"# ds_builder.info.description : \\n\", ds_builder.info.description)\n",
        "print(\"# ds_builder.info.features :\\n\", ds_builder.info.features)\n",
        "print(\"# ds_builder.info.splits :\\n\", ds_builder.info.splits)\n",
        "print(\"# ds_builder.info.config_name :\\n\", ds_builder.info.config_name)\n",
        "print(\"# ds_builder.info.dataset_name :\\n\", ds_builder.info.dataset_name)\n",
        "print(\"# ds_builder.info.download_size :\\n\", ds_builder.info.download_size)\n"
      ],
      "metadata": {
        "colab": {
          "base_uri": "https://localhost:8080/"
        },
        "id": "8VlQZ8AtjDRS",
        "outputId": "b62bf982-9207-4298-ebc5-cafde6652625"
      },
      "execution_count": null,
      "outputs": [
        {
          "output_type": "stream",
          "name": "stdout",
          "text": [
            "# config :\n",
            " ['default']\n",
            "# ds_builder.info.description : \n",
            " \n",
            "# ds_builder.info.features :\n",
            " {'domain': Value(dtype='string', id=None), 'problem': Value(dtype='string', id=None), 'matched_solution': Value(dtype='string', id=None), 'o1_solution': Value(dtype='string', id=None), 'is_o1_solution_same_with_matched_solution': Value(dtype='bool', id=None), 'qwq_solution': Value(dtype='string', id=None), 'is_qwq_solution_same_with_matched_solution': Value(dtype='bool', id=None)}\n",
            "# ds_builder.info.splits :\n",
            " {'train': SplitInfo(name='train', num_bytes=1290088246, num_examples=116756, shard_lengths=[45914, 45539, 25303], dataset_name='scp-116_k')}\n",
            "# ds_builder.info.config_name :\n",
            " default\n",
            "# ds_builder.info.dataset_name :\n",
            " scp-116_k\n",
            "# ds_builder.info.download_size :\n",
            " 1381013937\n"
          ]
        }
      ]
    },
    {
      "cell_type": "code",
      "source": [
        "from datasets import load_dataset\n",
        "\n",
        "# Load the dataset from Hugging Face\n",
        "dataset_0 = load_dataset('EricLu/SCP-116K', split = \"train\", trust_remote_code=True)"
      ],
      "metadata": {
        "id": "7syOqOHkn_Xq"
      },
      "execution_count": null,
      "outputs": []
    },
    {
      "cell_type": "code",
      "source": [
        "len(dataset_0)"
      ],
      "metadata": {
        "colab": {
          "base_uri": "https://localhost:8080/"
        },
        "id": "Ecx2GxTBoFmZ",
        "outputId": "ee5f8474-3b0e-4f72-97d7-b0684330fba9"
      },
      "execution_count": null,
      "outputs": [
        {
          "output_type": "execute_result",
          "data": {
            "text/plain": [
              "116756"
            ]
          },
          "metadata": {},
          "execution_count": 51
        }
      ]
    },
    {
      "cell_type": "code",
      "source": [
        "from datasets import load_dataset\n",
        "\n",
        "# Load the dataset from Hugging Face\n",
        "#dataset_0 = load_dataset('EricLu/SCP-116K', split = \"train\", trust_remote_code=True)\n",
        "\n",
        "# Filter the dataset\n",
        "dataset_eng = dataset_0.filter(\n",
        "    lambda example: example['domain'] in ['Applied Mathematics'] and\n",
        "                    example['is_qwq_solution_same_with_matched_solution'] == True and\n",
        "                    example['is_o1_solution_same_with_matched_solution'] == True\n",
        ")\n",
        "\n",
        "# Select and Rename the required columns\n",
        "dataset_eng_filtred = dataset_eng.select_columns(['problem', 'matched_solution', 'qwq_solution'])\n",
        "dataset_eng_filtred = dataset_eng_filtred.rename_columns({\n",
        "    'problem': 'question',\n",
        "    'matched_solution': 'response',\n",
        "    'qwq_solution': 'CoT'\n",
        "})\n",
        "\n",
        "# Push the filtered dataset to the Hugging Face Hub\n",
        "dataset_eng_filtred.push_to_hub(f\"0xZee/dataset-CoT-Particle-Astroparticle-Physics-{len(dataset_eng_filtred)}\")"
      ],
      "metadata": {
        "colab": {
          "base_uri": "https://localhost:8080/",
          "height": 49,
          "referenced_widgets": [
            "92acf1c129954bca924102ab7488be37",
            "5d83b9269f674005b9faf63f248d123a",
            "d5d256a6dc81413e979bd756d75d99e3",
            "760a50cb7f9044378e49d3d43e8bcb23",
            "add3eeccf6794671b8956bd2b1c0bfd9",
            "9c1031f1108249f18d6f62ff930b1db1",
            "503b3fec346242b9a439e23a19fd73dd",
            "892db69402454026812f876555a8dd33",
            "175fb50c198d4043b003808ad6fed611",
            "1411b2eed372483ca0fd3f1665c88060",
            "5c83d8aeb3ce441a8f1fb2ca3672188f"
          ]
        },
        "id": "i6Mo7Bg54OxT",
        "outputId": "389fd6b6-583f-46ce-e779-08f0d03b93f1"
      },
      "execution_count": null,
      "outputs": [
        {
          "output_type": "display_data",
          "data": {
            "text/plain": [
              "Filter:   0%|          | 0/116756 [00:00<?, ? examples/s]"
            ],
            "application/vnd.jupyter.widget-view+json": {
              "version_major": 2,
              "version_minor": 0,
              "model_id": "92acf1c129954bca924102ab7488be37"
            }
          },
          "metadata": {}
        }
      ]
    },
    {
      "cell_type": "code",
      "source": [
        "# Push the filtered dataset to the Hugging Face Hub\n",
        "dataset_eng_filtred.push_to_hub(\"0xZee/dataset-CoT-Applied-Mathematics-824\")"
      ],
      "metadata": {
        "colab": {
          "base_uri": "https://localhost:8080/",
          "height": 152,
          "referenced_widgets": [
            "692f46fb827c43a5a16dd5a9940f6a75",
            "bf9a745f9e8043f599cedb7a4fc43203",
            "4196b9ff624542df83467f9874fa7944",
            "c6bfc395b4dd43579b09f447baf482c5",
            "045da774f2f44002bec41cbcb67e2470",
            "f32094b1da9f4a94af4c53466df6bb0b",
            "0ac2e86b3be647d6b76e39e343a1f706",
            "a0917d5ceec3415a92c8513bd6b495c1",
            "661c700c282b4d8695d22e88a2a973df",
            "45e00e5ed9c34f2591837f77e0d0d1bf",
            "09f40fcf58f24f12b4a6798f188c5f94",
            "e86b987f771e4400bb7d09149e6600dc",
            "822746b0559e48df985a2230c9a3abe8",
            "e176d15bc7d84310af50c41d7f87e1fa",
            "221fa89b5bad488985e47b20f6fb9301",
            "4c1abe453d6b4b9db2bf7e30de07d893",
            "cfcfc8656a5c4a308a894454cd83f802",
            "d8e858a22ed74084a06f7ee157dd3c15",
            "353ce8b4635244ceb2db5c57330189a6",
            "c11e5898cbf34b33bab0499405dfb14c",
            "93da68372f414a029fee6530358e548f",
            "c5f2d9f14579439cbb4a2886256381e4"
          ]
        },
        "id": "pPH39A4sv0Ty",
        "outputId": "c58645a0-824b-4351-d0d7-462622b7355e"
      },
      "execution_count": null,
      "outputs": [
        {
          "output_type": "display_data",
          "data": {
            "text/plain": [
              "Uploading the dataset shards:   0%|          | 0/1 [00:00<?, ?it/s]"
            ],
            "application/vnd.jupyter.widget-view+json": {
              "version_major": 2,
              "version_minor": 0,
              "model_id": "692f46fb827c43a5a16dd5a9940f6a75"
            }
          },
          "metadata": {}
        },
        {
          "output_type": "display_data",
          "data": {
            "text/plain": [
              "Creating parquet from Arrow format:   0%|          | 0/1 [00:00<?, ?ba/s]"
            ],
            "application/vnd.jupyter.widget-view+json": {
              "version_major": 2,
              "version_minor": 0,
              "model_id": "e86b987f771e4400bb7d09149e6600dc"
            }
          },
          "metadata": {}
        },
        {
          "output_type": "execute_result",
          "data": {
            "text/plain": [
              "CommitInfo(commit_url='https://huggingface.co/datasets/0xZee/dataset-CoT-Applied-Mathematics-824/commit/a4291a326b9e693e992f501ad2786aae505307fb', commit_message='Upload dataset', commit_description='', oid='a4291a326b9e693e992f501ad2786aae505307fb', pr_url=None, repo_url=RepoUrl('https://huggingface.co/datasets/0xZee/dataset-CoT-Applied-Mathematics-824', endpoint='https://huggingface.co', repo_type='dataset', repo_id='0xZee/dataset-CoT-Applied-Mathematics-824'), pr_revision=None, pr_num=None)"
            ],
            "application/vnd.google.colaboratory.intrinsic+json": {
              "type": "string"
            }
          },
          "metadata": {},
          "execution_count": 178
        }
      ]
    },
    {
      "cell_type": "markdown",
      "source": [
        "# `Imports`"
      ],
      "metadata": {
        "id": "iY05o2ASD_yd"
      }
    },
    {
      "cell_type": "code",
      "source": [],
      "metadata": {
        "id": "AgFZhXr7D8HV"
      },
      "execution_count": null,
      "outputs": []
    },
    {
      "cell_type": "markdown",
      "source": [
        "# Load `model` `deepseek` and `tokenizer`"
      ],
      "metadata": {
        "id": "3tuN5hPmDTk0"
      }
    },
    {
      "source": [
        "#!pip install --force-reinstall torch"
      ],
      "cell_type": "code",
      "metadata": {
        "id": "j8055HDVKY-p"
      },
      "execution_count": null,
      "outputs": []
    },
    {
      "cell_type": "code",
      "source": [
        "!pip install --force-reinstall --no-cache-dir torchvision torchaudio"
      ],
      "metadata": {
        "id": "2Y12uwAgL5c_"
      },
      "execution_count": null,
      "outputs": []
    },
    {
      "cell_type": "code",
      "source": [
        "from unsloth import FastLanguageModel\n",
        "\n",
        "\n",
        "MODEL_NAME = \"unsloth/DeepSeek-R1-Distill-Llama-8B\"\n",
        "max_seq_length = 2048\n",
        "dtype = None\n",
        "load_in_4bit = True\n",
        "\n",
        "\n",
        "model, tokenizer = FastLanguageModel.from_pretrained(\n",
        "    model_name = MODEL_NAME,\n",
        "    max_seq_length = max_seq_length,\n",
        "    dtype = dtype,\n",
        "    load_in_4bit = load_in_4bit,\n",
        "    token = HF_TOKEN,\n",
        ")"
      ],
      "metadata": {
        "colab": {
          "base_uri": "https://localhost:8080/",
          "height": 284,
          "referenced_widgets": [
            "f5383311a1d54e7aa86251a8cccc69a7",
            "497d25d466204fa88bcebc3950dcb471",
            "f7c68d3eb8114bdfbd0a65eeba97adf1",
            "6330fd2e10c64a78a10c4e677fb3acf6",
            "9c23a8e2842c4adbb88575ba6aefd7c2",
            "ae93f8bdd8c84a0d83deb3ecd4d29e6e",
            "7df36acddc4f43a4841a41df841fb4af",
            "e4191cbaa80e4e878f1b4c8c6358f59b",
            "fd12712d460643c794ffec77129fe375",
            "2bc7ee87f4ca4c2ead7f99c837a716c7",
            "057dae4fac3640f2b38e4eaeb8a2a945",
            "fcaf7932ece044b3a5ee8673434b4be0",
            "a9d901eb5a2a4d13bcaa3c404e03fc4d",
            "988f6c90e2b449db9b1e8e112f7c8bb9",
            "c88649226dde4e259fafd4150d802125",
            "1ed7949a8080489d98db83aa7f98beed",
            "f50f057754424962b7c73d13345f254c",
            "47abc1a6bf784626ab7699d6f88645a9",
            "b0be834befbe45b9b04d8b02302f1c7e",
            "0cf1c577f64e4f5890859cf227fd5512",
            "96d4827794894383882f8ca3baaac44d",
            "599e88b23ce54c9083313c8b2031e85a",
            "a00d34887bd54950b2af4a2c48f9dfa9",
            "807e953b8b4a4ef1a87add2430e568b5",
            "a3cb7a222adc4e2c9f54abbac45d5d0d",
            "4ce84d123fbb49d9a7e6c68952d4a7e6",
            "af8ef6de101e434d9808edd87ad1f115",
            "2a9541c60a5647ecacf5e9d301a3c066",
            "528dd619c2b540bc92874f3a5e43d9e7",
            "28b500f29f534e35982704c2717ea064",
            "c97e434d123f4adfa763970498018d97",
            "ee62ccd5cfce4484b483099fcfbac8b8",
            "642432d3748e46ae95e8476cc9c6c53b",
            "01807dc4f2d5494494e8cd2a62205fb6",
            "4c3e89ac33674dbcbec79e067c9b5b6f",
            "30ad398584c44c1d851eae3ffdf6ecce",
            "5d710234376f44d99ef271cf7a29fd83",
            "a496fa7a62f34737ac7a0cc0443a03a9",
            "c9c704ebbd0b4093a7715757f506fc6d",
            "c3f402f5305740aeb05a82f3ba36bee1",
            "8b807b8e351847339e3f6d96fbb4a930",
            "757b706c8ad2413d96354b9726f38db6",
            "75df4269b0b54f59851a694b0262bfc5",
            "823b6eb353894d5a964edb0573406c9a",
            "a9780e8df9b14da59e9487ff1eb237bf",
            "07c9b5e54f78407f92f6fd52ffbab2b2",
            "eb455c44316b4353b881bceb6a01e9b1",
            "5a38d3a8ad77481697140cba4607d1f0",
            "336ea590e3df474196f028ba30f4cec1",
            "e5926c0dda834548ac3e87ce8e4f2ac4",
            "591ab2ca01764ca9b1a65c198ac8e051",
            "36d98fafdcc94ae99f17dced8436c579",
            "b6acd0cfaba64c009c21a6019ba0825a",
            "41ab5b9039a1487688108b1d83ef019b",
            "26c4c5ea6217439faed1cc41438e350a"
          ]
        },
        "id": "J2iSj9D_xRMj",
        "outputId": "96925c9e-9d0d-43c8-b943-a6bbb8225a67"
      },
      "execution_count": null,
      "outputs": [
        {
          "output_type": "stream",
          "name": "stdout",
          "text": [
            "==((====))==  Unsloth 2025.2.4: Fast Llama patching. Transformers: 4.48.2.\n",
            "   \\\\   /|    GPU: Tesla T4. Max memory: 14.741 GB. Platform: Linux.\n",
            "O^O/ \\_/ \\    Torch: 2.6.0+cu124. CUDA: 7.5. CUDA Toolkit: 12.4. Triton: 3.2.0\n",
            "\\        /    Bfloat16 = FALSE. FA [Xformers = None. FA2 = False]\n",
            " \"-____-\"     Free Apache license: http://github.com/unslothai/unsloth\n",
            "Unsloth: Fast downloading is enabled - ignore downloading bars which are red colored!\n"
          ]
        },
        {
          "output_type": "display_data",
          "data": {
            "text/plain": [
              "model.safetensors:   0%|          | 0.00/5.96G [00:00<?, ?B/s]"
            ],
            "application/vnd.jupyter.widget-view+json": {
              "version_major": 2,
              "version_minor": 0,
              "model_id": "f5383311a1d54e7aa86251a8cccc69a7"
            }
          },
          "metadata": {}
        },
        {
          "output_type": "display_data",
          "data": {
            "text/plain": [
              "generation_config.json:   0%|          | 0.00/236 [00:00<?, ?B/s]"
            ],
            "application/vnd.jupyter.widget-view+json": {
              "version_major": 2,
              "version_minor": 0,
              "model_id": "fcaf7932ece044b3a5ee8673434b4be0"
            }
          },
          "metadata": {}
        },
        {
          "output_type": "display_data",
          "data": {
            "text/plain": [
              "tokenizer_config.json:   0%|          | 0.00/52.9k [00:00<?, ?B/s]"
            ],
            "application/vnd.jupyter.widget-view+json": {
              "version_major": 2,
              "version_minor": 0,
              "model_id": "a00d34887bd54950b2af4a2c48f9dfa9"
            }
          },
          "metadata": {}
        },
        {
          "output_type": "display_data",
          "data": {
            "text/plain": [
              "special_tokens_map.json:   0%|          | 0.00/483 [00:00<?, ?B/s]"
            ],
            "application/vnd.jupyter.widget-view+json": {
              "version_major": 2,
              "version_minor": 0,
              "model_id": "01807dc4f2d5494494e8cd2a62205fb6"
            }
          },
          "metadata": {}
        },
        {
          "output_type": "display_data",
          "data": {
            "text/plain": [
              "tokenizer.json:   0%|          | 0.00/17.2M [00:00<?, ?B/s]"
            ],
            "application/vnd.jupyter.widget-view+json": {
              "version_major": 2,
              "version_minor": 0,
              "model_id": "a9780e8df9b14da59e9487ff1eb237bf"
            }
          },
          "metadata": {}
        }
      ]
    },
    {
      "cell_type": "markdown",
      "source": [
        "# Model `inference`"
      ],
      "metadata": {
        "id": "eRPS2hTqNgWo"
      }
    },
    {
      "cell_type": "code",
      "source": [
        "prompt_style = \"\"\"Below is an instruction that describes a task, paired with an input that provides further context.\n",
        "Write a response that appropriately completes the request.\n",
        "Before answering, think carefully about the question and create a step-by-step chain of thoughts to ensure a logical and accurate response.\n",
        "\n",
        "### Instruction:\n",
        "You are a quantum physicist with advanced knowledge in quantum mechanics, quantum field theory, and quantum information science.\n",
        "Please answer the following quantum physics question.\n",
        "\n",
        "### Question:\n",
        "{}\n",
        "\n",
        "### Response:\n",
        "<think>{}\"\"\""
      ],
      "metadata": {
        "id": "mIC0WgIrxRJ9"
      },
      "execution_count": null,
      "outputs": []
    },
    {
      "cell_type": "code",
      "source": [
        "question = \"Show that for a simple harmonic oscillator, the operator\\n\\n\\[\\nA(t) = mwx(t) \\cos \\omega t - p(t) \\sin \\omega t\\n\\]\\n\\nis independent of the time \\( t \\).\\n\\nCan this operator be simultaneously diagonalized with the Hamiltonian?\"\n",
        "\n",
        "\n",
        "FastLanguageModel.for_inference(model)\n",
        "inputs = tokenizer([prompt_style.format(question, \"\")], return_tensors=\"pt\").to(\"cuda\")\n",
        "\n",
        "outputs = model.generate(\n",
        "    input_ids=inputs.input_ids,\n",
        "    attention_mask=inputs.attention_mask,\n",
        "    max_new_tokens=1200,\n",
        "    use_cache=True,\n",
        ")\n",
        "response = tokenizer.batch_decode(outputs)\n",
        "print(response[0].split(\"### Response:\")[1])"
      ],
      "metadata": {
        "colab": {
          "base_uri": "https://localhost:8080/"
        },
        "id": "L4z9BArqNiu9",
        "outputId": "fc10bc9e-5bbd-4e95-d850-94c9ed77ec17"
      },
      "execution_count": null,
      "outputs": [
        {
          "output_type": "stream",
          "name": "stdout",
          "text": [
            "\n",
            "<think>\n",
            "\n",
            "To show that the operator \\( A(t) = m\\omega x(t) \\cos \\omega t - p(t) \\sin \\omega t \\) is independent of time \\( t \\) for a simple harmonic oscillator, we proceed as follows:\n",
            "\n",
            "1. **Express the Position and Momentum Operators:**\n",
            "   - The position operator \\( x(t) \\) and momentum operator \\( p(t) \\) are given by:\n",
            "     \\[\n",
            "     x(t) = \\sqrt{\\frac{\\hbar}{2\\omega}} \\left( \\cos \\omega t + i \\sin \\omega t \\right)\n",
            "     \\]\n",
            "     \\[\n",
            "     p(t) = \\sqrt{\\frac{\\hbar \\omega}{2}} \\left( -i \\cos \\omega t + \\sin \\omega t \\right)\n",
            "     \\]\n",
            "   - Here, \\( \\hbar \\) is the reduced Planck constant.\n",
            "\n",
            "2. **Compute \\( A(t) \\):**\n",
            "   - Substitute \\( x(t) \\) and \\( p(t) \\) into \\( A(t) \\):\n",
            "     \\[\n",
            "     A(t) = m\\omega \\cdot \\sqrt{\\frac{\\hbar}{2\\omega}} \\left( \\cos \\omega t + i \\sin \\omega t \\right) \\cos \\omega t - \\sqrt{\\frac{\\hbar \\omega}{2}} \\left( -i \\cos \\omega t + \\sin \\omega t \\right) \\sin \\omega t\n",
            "     \\]\n",
            "   - Simplify the expression step by step.\n",
            "\n",
            "3. **Simplify the Expression:**\n",
            "   - Notice that the terms involving \\( \\cos \\omega t \\) and \\( \\sin \\omega t \\) will combine in a way that eliminates the time dependence.\n",
            "\n",
            "4. **Final Simplification:**\n",
            "   - After simplification, all time-dependent terms cancel out, resulting in \\( A(t) \\) being constant, independent of \\( t \\).\n",
            "\n",
            "5. **Diagonalization with the Hamiltonian:**\n",
            "   - The Hamiltonian \\( H \\) for the harmonic oscillator is quadratic in \\( x(t) \\) and \\( p(t) \\).\n",
            "   - Since \\( A(t) \\) is a linear combination of \\( x(t) \\) and \\( p(t) \\), and both \\( x(t) \\) and \\( p(t) \\) are involved in the Hamiltonian, \\( A(t) \\) can be simultaneously diagonalized with \\( H \\) using the appropriate transformations.\n",
            "\n",
            "**Final Answer:**\n",
            "The operator \\( A(t) \\) is independent of time \\( t \\) and can be simultaneously diagonalized with the Hamiltonian for the simple harmonic oscillator.\n",
            "\\boxed{A(t) \\text{ is independent of } t}<｜end▁of▁sentence｜>\n"
          ]
        }
      ]
    },
    {
      "cell_type": "markdown",
      "source": [
        "# Load and process the `dataset`"
      ],
      "metadata": {
        "id": "AGk0ss6FaNhZ"
      }
    },
    {
      "cell_type": "code",
      "source": [
        "train_prompt_style = \"\"\"Below is an instruction that describes a task, paired with an input that provides further context.\n",
        "Write a response that appropriately completes the request.\n",
        "Before answering, think carefully about the question and create a step-by-step chain of thoughts to ensure a logical and accurate response.\n",
        "\n",
        "### Instruction:\n",
        "You are a quantum physicist with advanced knowledge in quantum mechanics, quantum field theory, and quantum information science.\n",
        "Please answer the following question.\n",
        "\n",
        "### Question:\n",
        "{}\n",
        "\n",
        "### Response:\n",
        "<think>\n",
        "{}\n",
        "</think>\n",
        "{}\"\"\""
      ],
      "metadata": {
        "id": "sE2h9EJFNioc"
      },
      "execution_count": null,
      "outputs": []
    },
    {
      "cell_type": "code",
      "source": [
        "EOS_TOKEN = tokenizer.eos_token\n",
        "\n",
        "\n",
        "def formatting_prompts_func(examples):\n",
        "    inputs = examples[\"question\"]\n",
        "    cots = examples[\"CoT\"]\n",
        "    outputs = examples[\"response\"]\n",
        "    texts = []\n",
        "    for input, cot, output in zip(inputs, cots, outputs):\n",
        "        text = train_prompt_style.format(input, cot, output) + EOS_TOKEN\n",
        "        texts.append(text)\n",
        "    return {\n",
        "        \"text\": texts,\n",
        "    }"
      ],
      "metadata": {
        "id": "KG_5-lb0Nikz"
      },
      "execution_count": null,
      "outputs": []
    },
    {
      "cell_type": "code",
      "source": [
        "from datasets import load_dataset\n",
        "dataset = load_dataset(\"0xZee/dataset-CoT-Quantum-Mechanics-1224\", split = \"train[0:333]\",trust_remote_code=True)\n",
        "dataset = dataset.map(formatting_prompts_func, batched = True,)\n",
        "dataset[\"text\"][0]"
      ],
      "metadata": {
        "id": "eUxdg7SqxRG1",
        "colab": {
          "base_uri": "https://localhost:8080/",
          "height": 1000,
          "referenced_widgets": [
            "3dbe8f12b0d14355886a9dcccf5e1559",
            "6fce31e00beb4ba8b04e0b7f622095cd",
            "bf0a4300d89944d08bedb8b7d0b8ceac",
            "3bd8fcf7c5314d4db056ad39f1e07243",
            "0d8d5c6db18244e09dbdfec5fd2aea5a",
            "3982467576ab44d6a771957809b04563",
            "3e86decfe993433686ff1478077f29ab",
            "d0387a5868864ab5aa2991d7f517b178",
            "25ac73989e804674be9780071998841d",
            "d437e4d3d15b4ca2a6dd3cd9cb3835a0",
            "c310ec1a909d4fb5a3737f1f2b7d0d96"
          ]
        },
        "collapsed": true,
        "outputId": "93534cf3-38d7-466c-b851-29f0a58cc775"
      },
      "execution_count": null,
      "outputs": [
        {
          "output_type": "display_data",
          "data": {
            "text/plain": [
              "Map:   0%|          | 0/333 [00:00<?, ? examples/s]"
            ],
            "application/vnd.jupyter.widget-view+json": {
              "version_major": 2,
              "version_minor": 0,
              "model_id": "3dbe8f12b0d14355886a9dcccf5e1559"
            }
          },
          "metadata": {}
        },
        {
          "output_type": "execute_result",
          "data": {
            "text/plain": [
              "\"Below is an instruction that describes a task, paired with an input that provides further context. \\nWrite a response that appropriately completes the request. \\nBefore answering, think carefully about the question and create a step-by-step chain of thoughts to ensure a logical and accurate response.\\n\\n### Instruction:\\nYou are a quantum physicist with advanced knowledge in quantum mechanics, quantum field theory, and quantum information science.\\nPlease answer the following question.\\n\\n### Question:\\nUsing the shell model, find the spin–isospin dependence of the wavefunctions for the tritium (3H) and helium (3He) nuclear ground-states.\\n\\n### Response:\\n<think>\\nSo I need to find the spin-isospin dependence of the wavefunctions for tritium (3H) and helium-3 (3He) nuclear ground-states using the shell model. Alright, let's break this down.\\n\\nFirst, I need to recall what the shell model is. The shell model is a quantum mechanical model of the atomic nucleus in which nucleons (protons and neutrons) are arranged in shells. It's similar to the electron shell model in atoms. In this model, nucleons fill energy levels in a way that minimizes the total energy of the nucleus.\\n\\nNow, tritium (3H) is a nucleus with one proton and two neutrons, while helium-3 (3He) has two protons and one neutron. So, both have three nucleons, but with different proton-to-neutron ratios.\\n\\nIn the shell model, nucleons are considered to move in independent orbits within a central potential, often approximated as a harmonic oscillator potential. The single-particle energy levels are then determined by this potential.\\n\\nEach nucleon has intrinsic properties: spin (s = 1/2) and isospin (t = 1/2). Isospin is a quantum number that treats protons and neutrons as different states of the same particle. In isospin space, protons have t_z = 1/2 and neutrons have t_z = -1/2.\\n\\nTo find the wavefunctions for the ground states of 3H and 3He, I need to consider the possible combinations of spin and isospin for the three nucleons.\\n\\nLet's start with tritium (3H): one proton and two neutrons.\\n\\nFirst, I need to consider the possible total isospin states for these nucleons.\\n\\nIsospin addition:\\n\\nFor two neutrons, both have t_z = -1/2. The total isospin for two identical particles can be t = 1 (triplet) or t = 0 (singlet).\\n\\nBut neutrons are identical fermions, so their wavefunction must be antisymmetric under exchange. The isospin triplet (t = 1) corresponds to symmetric wavefunctions, while the singlet (t = 0) is antisymmetric.\\n\\nSimilarly, for spin, the two neutrons can have total spin s = 1 (triplet) or s = 0 (singlet). Again, for fermions, the spatial wavefunction must be antisymmetric if the spin wavefunction is symmetric, and vice versa.\\n\\nNow, the proton has t_z = 1/2. So, combining the proton's isospin with the two-neutron isospin, I can find the total isospin of the nucleus.\\n\\nSimilarly, for helium-3 (3He): two protons and one neutron.\\n\\nHere, the two protons are identical fermions, each with t_z = 1/2.\\n\\nTheir isospin can be t = 1 (triplet) or t = 0 (singlet).\\n\\nAgain, due to the Pauli exclusion principle, the total wavefunction must be antisymmetric under exchange of any two nucleons.\\n\\nSo, for both nuclei, I need to construct the total wavefunction as a product of spatial, spin, and isospin wavefunctions, ensuring that the total wavefunction is antisymmetric for fermions.\\n\\nLet's consider tritium first.\\n\\nTritium has one proton and two neutrons.\\n\\nFirst, consider the two neutrons.\\n\\nPossible isospin states:\\n\\n- t = 1, t_z = -1 (|1, -1⟩)\\n\\n- t = 0, t_z = -1 (|0, -1⟩)\\n\\nBut since both neutrons have t_z = -1/2, the total t_z = -1.\\n\\nFor t = 1, t_z = -1, the state is symmetric under exchange.\\n\\nFor t = 0, t_z = -1, the state is antisymmetric under exchange.\\n\\nSimilarly, for spin:\\n\\nPossible total spin states for two neutrons:\\n\\n- s = 1 (triplet): symmetric under exchange\\n\\n- s = 0 (singlet): antisymmetric under exchange\\n\\nNow, since neutrons are fermions, their total wavefunction must be antisymmetric under exchange.\\n\\nTherefore, for the two-neutron system:\\n\\n- If isospin is t = 1 (symmetric), then spin must be s = 0 (antisymmetric)\\n\\n- If isospin is t = 0 (antisymmetric), then spin must be s = 1 (symmetric)\\n\\nSo, the two-neutron wavefunction can be either:\\n\\n- t = 1, s = 0\\n\\n- t = 0, s = 1\\n\\nNow, combine this with the proton.\\n\\nThe proton has t_z = 1/2 and s = 1/2.\\n\\nSo, the total isospin of the nucleus is the combination of the two-neutron isospin and the proton's isospin.\\n\\nSimilarly, the total spin is the combination of the two-neutron spin and the proton's spin.\\n\\nFirst, consider t = 1 for the neutrons.\\n\\nThen, total isospin T = t_n + t_p = 1 + 1/2 = 3/2 or T = 1/2.\\n\\nSimilarly, if t = 0 for the neutrons, T = 0 + 1/2 = 1/2.\\n\\nSo, possible total isospins for tritium are T = 1/2 and T = 3/2.\\n\\nNow, for the ground state, we expect the state with the lowest energy, which usually corresponds to the state with the highest symmetry.\\n\\nIn nuclear physics, states with higher total isospin generally have higher energy due to the Pauli principle and other interactions.\\n\\nTherefore, the ground state of tritium is expected to have T = 1/2.\\n\\nSimilarly, for helium-3 (3He), with two protons and one neutron.\\n\\nThe two protons have t_z = 1/2 each.\\n\\nPossible isospin states for two protons:\\n\\n- t = 1, t_z = 1 (|1,1⟩)\\n\\n- t = 0, t_z = 1 (|0,1⟩)\\n\\nBut since both protons have t_z = 1/2, the total t_z = 1.\\n\\nFor t = 1, t_z = 1, the state is symmetric under exchange.\\n\\nFor t = 0, t_z = 1, the state is antisymmetric under exchange.\\n\\nSimilarly, for spin:\\n\\nPossible total spin states for two protons:\\n\\n- s = 1 (triplet): symmetric under exchange\\n\\n- s = 0 (singlet): antisymmetric under exchange\\n\\nAgain, since protons are fermions, their total wavefunction must be antisymmetric under exchange.\\n\\nTherefore, for the two-proton system:\\n\\n- If isospin is t = 1 (symmetric), spin must be s = 0 (antisymmetric)\\n\\n- If isospin is t = 0 (antisymmetric), spin must be s = 1 (symmetric)\\n\\nSo, the two-proton wavefunction can be either:\\n\\n- t = 1, s = 0\\n\\n- t = 0, s = 1\\n\\nNow, combine this with the neutron.\\n\\nThe neutron has t_z = -1/2 and s = 1/2.\\n\\nSo, the total isospin of the nucleus is the combination of the two-proton isospin and the neutron's isospin.\\n\\nSimilarly, the total spin is the combination of the two-proton spin and the neutron's spin.\\n\\nFirst, consider t = 1 for the protons.\\n\\nThen, total isospin T = t_p + t_n = 1 + 1/2 = 3/2 or T = 1/2.\\n\\nSimilarly, if t = 0 for the protons, T = 0 + 1/2 = 1/2.\\n\\nSo, possible total isospins for helium-3 are T = 1/2 and T = 3/2.\\n\\nAgain, the ground state is expected to have the lowest energy, which corresponds to T = 1/2.\\n\\nNow, to find the wavefunctions, I need to construct the total wavefunction as a product of spatial, spin, and isospin parts.\\n\\nIn the shell model, the spatial wavefunction is determined by the orbital angular momenta of the nucleons.\\n\\nHowever, for light nuclei like tritium and helium-3, the spatial wavefunction is often taken to be symmetric for all nucleons, assuming a harmonic oscillator potential.\\n\\nBut since nucleons are fermions, the total wavefunction must be antisymmetric under exchange of any two nucleons.\\n\\nTherefore, the product of spatial, spin, and isospin wavefunctions must be antisymmetric.\\n\\nGiven that the spatial wavefunction is symmetric, the product of spin and isospin wavefunctions must be antisymmetric.\\n\\nSo, for both tritium and helium-3:\\n\\nΨ_total = Ψ_spatial × Ψ_spin × �Ψ_isospin\\n\\nWith Ψ_spatial symmetric, Ψ_spin × Ψ_isospin must be antisymmetric.\\n\\nNow, let's consider tritium first.\\n\\nTritium: one proton and two neutrons.\\n\\nFirst, consider the two-neutron system.\\n\\nPossible combinations:\\n\\n1. t = 1, s = 0: symmetric isospin × antisymmetric spin = antisymmetric total\\n\\n2. t = 0, s = 1: antisymmetric isospin × symmetric spin = antisymmetric total\\n\\nBoth combinations are antisymmetric, which satisfies the Pauli principle.\\n\\nSimilarly, for helium-3: two protons and one neutron.\\n\\nPossible combinations:\\n\\n1. t = 1, s = 0: symmetric isospin × antisymmetric spin = antisymmetric total\\n\\n2. t = 0, s = 1: antisymmetric isospin × symmetric spin = antisymmetric total\\n\\nAgain, both combinations are antisymmetric.\\n\\nNow, to find the total wavefunction for the three nucleons, I need to consider the combination of the two-neutron (or two-proton) state with the single proton (or neutron).\\n\\nThis involves coupling the total isospin and total spin of the two-neutron (or two-proton) system with the isospin and spin of the single nucleon.\\n\\nThis can be done using Clebsch-Gordan coefficients.\\n\\nBut this can get quite involved.\\n\\nAlternatively, since we are interested in the ground state, which is expected to have the lowest possible energy, corresponding to the state with the highest symmetry.\\n\\nIn nuclear physics, states with higher total isospin generally have higher energy.\\n\\nTherefore, for both tritium and helium-3, the ground state should have the lowest possible total isospin, which is T = 1/2.\\n\\nNow, let's try to construct the wavefunctions accordingly.\\n\\nStarting with tritium (3H):\\n\\nOne proton (p) and two neutrons (n1, n2).\\n\\nFirst, consider the two neutrons.\\n\\nPossible isospin states:\\n\\n- t = 1, t_z = -1: |1, -1⟩\\n\\n- t = 0, t_z = -1: |0, -1⟩\\n\\nSimilarly, for spin:\\n\\n- s = 0: singlet\\n\\n- s = 1: triplet\\n\\nNow, combine the two-neutron system with the proton.\\n\\nProton has t_z = 1/2 and s = 1/2.\\n\\nSo, the total isospin T can be:\\n\\n- If t = 1 for neutrons: T = 1 + 1/2 = 3/2 or T = 1 - 1/2 = 1/2\\n\\n- If t = 0 for neutrons: T = 0 + 1/2 = 1/2\\n\\nSimilarly, total spin S can be:\\n\\n- If s = 0 for neutrons: S = 0 + 1/2 = 1/2\\n\\n- If s = 1 for neutrons: S = 1 + 1/2 = 3/2 or S = 1 - 1/2 = 1/2\\n\\nNow, for the ground state, we expect T = 1/2 and the lowest possible spin.\\n\\nIn nuclear physics, states with lower spin generally have lower energy.\\n\\nTherefore, the ground state of tritium should have T = 1/2 and S = 1/2.\\n\\nSimilarly, for helium-3 (3He):\\n\\nTwo protons and one neutron.\\n\\nPossible isospin states for two protons:\\n\\n- t = 1, t_z = 1: |1,1⟩\\n\\n- t = 0, t_z = 1: |0,1⟩\\n\\nSimilarly, for spin:\\n\\n- s = 0: singlet\\n\\n- s = 1: triplet\\n\\nNow, combine the two-proton system with the neutron.\\n\\nNeutron has t_z = -1/2 and s = 1/2.\\n\\nSo, the total isospin T can be:\\n\\n- If t = 1 for protons: T = 1 + 1/2 = 3/2 or T = 1 - 1/2 = 1/2\\n\\n- If t = 0 for protons: T = 0 + 1/2 = 1/2\\n\\nSimilarly, total spin S can be:\\n\\n- If s = 0 for protons: S = 0 + 1/2 = 1/2\\n\\n- If s = 1 for protons: S = 1 + 1/2 = 3/2 or S = 1 - 1/2 = 1/2\\n\\nAgain, the ground state should have T = 1/2 and S = 1/2.\\n\\nNow, to write the wavefunctions, I need to consider the coupling of individual nucleon spins and isospins to form the total wavefunction.\\n\\nThis involves using Clebsch-Gordan coefficients to couple individual angular momenta.\\n\\nBut this can be quite involved, especially for three particles.\\n\\nAlternatively, I can consider the shell model wavefunctions in terms of the individual nucleon wavefunctions and ensure that the total wavefunction is antisymmetric under exchange.\\n\\nGiven the complexity, perhaps I can consider a simpler approach.\\n\\nIn the shell model, nucleons fill single-particle orbits in a harmonic oscillator potential.\\n\\nFor light nuclei like tritium and helium-3, the ground state can be described by nucleons occupying the lowest available orbits.\\n\\nIn a harmonic oscillator potential, the single-particle energy levels are determined by the principal quantum number n = l + n_r, where l is the orbital angular momentum and n_r is the radial quantum number.\\n\\nFor the lowest energy state, nucleons will occupy the lowest n = 0 state, which corresponds to l = 0 (s-orbital).\\n\\nTherefore, all three nucleons are in s-orbitals.\\n\\nSince l = 0, the orbital angular momentum L = 0.\\n\\nTherefore, the total angular momentum J = S, where S is the total spin.\\n\\nGiven that the ground state should have the lowest possible spin, S = 1/2 for both tritium and helium-3.\\n\\nNow, considering isospin, the total isospin T = 1/2 for both nuclei.\\n\\nNow, to write the wavefunction, I need to consider the combination of individual nucleon wavefunctions that result in T = 1/2 and S = 1/2.\\n\\nLet's consider tritium first.\\n\\nTritium has one proton and two neutrons.\\n\\nEach nucleon has a spin and isospin quantum number.\\n\\nThe proton has t_z = 1/2 and s_z = ±1/2.\\n\\nThe neutrons have t_z = -1/2 and s_z = ±1/2.\\n\\nTo get T = 1/2, the total isospin projection T_z should be:\\n\\nFor tritium, with one proton and two neutrons:\\n\\nT_z = t_z_p + t_z_n1 + t_z_n2 = 1/2 + (-1/2) + (-1/2) = -1/2\\n\\nSimilarly, for helium-3:\\n\\nT_z = t_z_p1 + t_z_p2 + t_z_n = 1/2 + 1/2 + (-1/2) = 1/2\\n\\nSo, for tritium, T = 1/2 and T_z = -1/2.\\n\\nFor helium-3, T = 1/2 and T_z = 1/2.\\n\\nNow, to construct the wavefunction, I need to consider the coupling of individual spins and isospins to get the desired total spin and isospin.\\n\\nThis can be done using Clebsch-Gordan coefficients.\\n\\nHowever, for simplicity, I can consider the wavefunction as a Slater determinant of the individual nucleon wavefunctions, ensuring antisymmetry.\\n\\nBut given the complexity, perhaps I can just write the wavefunction in terms of the total spin and isospin states.\\n\\nFor tritium:\\n\\nΨ_3H = |T = 1/2, T_z = -1/2⟩ × |S = 1/2, S_z = s_z⟩\\n\\nSimilarly, for helium-3:\\n\\nΨ_3He = |T = 1/2, T_z = 1/2⟩ × |S = 1/2, S_z = s_z⟩\\n\\nNow, to express these in terms of the individual nucleon states, I need to couple the individual spins and isospins appropriately.\\n\\nThis involves using Clebsch-Gordan coefficients for isospin and spin.\\n\\nBut this can be quite involved, especially for three particles.\\n\\nAlternatively, I can consider the wavefunction as a linear combination of possible states that satisfy the total isospin and spin requirements.\\n\\nFor tritium, with one proton and two neutrons, the wavefunction can be written as:\\n\\nΨ_3H = α [ |p↑⟩ |n↑⟩ |n↓⟩ - |p↑⟩ |n↓⟩ |n↑⟩ ] + β [ |p↓⟩ |n↑⟩ |n↑⟩ - |p↑⟩ |n↑⟩ |n↓⟩ ] + ...\\n\\nBut this is getting too messy.\\n\\nPerhaps a better approach is to consider the isospin and spin wavefunctions separately and then combine them.\\n\\nFirst, for tritium:\\n\\nIsospin wavefunction:\\n\\nWe have one proton (t_z = 1/2) and two neutrons (t_z = -1/2 each).\\n\\nWe need to combine them to get T = 1/2, T_z = -1/2.\\n\\nThis can be done using isospin Clebsch-Gordan coefficients.\\n\\nSimilarly, for spin:\\n\\nCombine the spins of the three nucleons to get S = 1/2.\\n\\nAgain, this involves spin Clebsch-Gordan coefficients.\\n\\nThis is quite involved, and I might need to look up the specific coefficients.\\n\\nAlternatively, I can consider that the ground state wavefunction is uniquely determined by the total isospin and spin, given the antisymmetry requirements.\\n\\nTherefore, for tritium:\\n\\nΨ_3H = |T = 1/2, T_z = -1/2⟩ × |S = 1/2, S_z = s_z⟩\\n\\nSimilarly, for helium-3:\\n\\nΨ_3He = |T = 1/2, T_z = 1/2⟩ × |S = 1/2, S_z = s_z⟩\\n\\nNow, to express these in terms of the individual nucleon states, I would need to use Clebsch-Gordan coefficients to couple the individual isospins and spins.\\n\\nBut perhaps for the purpose of this problem, stating the total isospin and spin states is sufficient.\\n\\nAlternatively, I can consider the wavefunctions in terms of the individual nucleon wavefunctions, ensuring that the total wavefunction is antisymmetric under exchange.\\n\\nGiven the complexity, I'll stop here.\\n\\nIn summary, the ground state wavefunctions for tritium and helium-3 have total isospin T = 1/2 and total spin S = 1/2.\\n\\nFor tritium, T_z = -1/2, and for helium-3, T_z = 1/2.\\n\\nThe exact form of the wavefunctions would require coupling the individual nucleon wavefunctions using Clebsch-Gordan coefficients, which is beyond the scope of this answer.\\n\\n**Final Answer**\\n\\n\\\\boxed{\\\\text{The ground state wavefunctions for tritium and helium-3 have total isospin } T = \\\\frac{1}{2} \\\\text{ and total spin } S = \\\\frac{1}{2}.}\\n</think>\\nIn the nuclei considered, the three nucleons are in the 1s-shell. Such a configuration could be considered as one hole in the 1s-state, which defines the quantum numbers – spin, parity and isospin – of these nuclei. J^P = (1/2)^+, T = 1/2 (here T_3 = -1/2 and +1/2 for the nuclei, 3H and 3He, respectively).\\\\n\\\\nThe orbital (coordinate) part of their wavefunction is symmetric with respect to permutation of the nucleon coordinates (which all are in the 1s orbital state). Hence, the spin–isospin part of the wavefunction must be anti-symmetric (see Problem 12.6). Its explicit form is found by anti-symmetrizing the wavefunction of a system of identical fermions with given occupied single-particle states. For brevity, below, we use the following notation for the spin–isospin wavefunctions: p↑ (1) is the wavefunction of the first nucleon in the proton-state with the definite value s_z = +1/2 of the spin projection, and so forth.\\\\n\\\\nIf the three nucleons occupy the states p↑, p↓, and n↑, then the spin–isospin part of the wavefunction is defined by the determinant below\\\\n\\\\nψ_{T_3=1/2, S=S=1/2} = (1/√6)\\\\n| p↑ (1) p↑ (1) n↑ (1) |\\\\n| p↑ (2) p↓ (2) n↑ (2) |\\\\n| p↓ (3) p↓ (3) n↑ (3) |\\\\n\\\\nThis wavefunction corresponds to the 3He nucleus in the J_z = +1/2 state.\\\\n\\\\nMaking the substitution p ↔ n in Eq. (1), we obtain a spin–isospin wavefunction for 3H nuclei with J_z = +1/2. In the same way, substitutions ↑ ↔ ↓ give wavefunctions for the J_z = -1/2 states.<｜end▁of▁sentence｜>\""
            ],
            "application/vnd.google.colaboratory.intrinsic+json": {
              "type": "string"
            }
          },
          "metadata": {},
          "execution_count": 14
        }
      ]
    },
    {
      "cell_type": "markdown",
      "source": [
        "# Setting up the `model` for `training`"
      ],
      "metadata": {
        "id": "W5YLiNn9bU1r"
      }
    },
    {
      "cell_type": "code",
      "source": [
        "# adding the low-rank adopter to the model\n",
        "\n",
        "model = FastLanguageModel.get_peft_model(\n",
        "    model,\n",
        "    r=16,\n",
        "    target_modules=[\n",
        "        \"q_proj\",\n",
        "        \"k_proj\",\n",
        "        \"v_proj\",\n",
        "        \"o_proj\",\n",
        "        \"gate_proj\",\n",
        "        \"up_proj\",\n",
        "        \"down_proj\",\n",
        "    ],\n",
        "    lora_alpha=16,\n",
        "    lora_dropout=0,\n",
        "    bias=\"none\",\n",
        "    use_gradient_checkpointing=\"unsloth\",\n",
        "    random_state=3407,\n",
        "    use_rslora=False,\n",
        "    loftq_config=None,\n",
        ")"
      ],
      "metadata": {
        "colab": {
          "base_uri": "https://localhost:8080/"
        },
        "id": "8uov94YTbRmp",
        "outputId": "3ed81bdf-d740-499e-f93d-8c8c9ee6a87a"
      },
      "execution_count": null,
      "outputs": [
        {
          "output_type": "stream",
          "name": "stderr",
          "text": [
            "Unsloth 2025.2.4 patched 32 layers with 32 QKV layers, 32 O layers and 32 MLP layers.\n"
          ]
        }
      ]
    },
    {
      "cell_type": "markdown",
      "source": [
        "set up the training arguments and the trainer by providing the model, tokenizers, dataset, and other important training parameters that will optimize our fine-tuning process."
      ],
      "metadata": {
        "id": "Upg5CNu8bpQL"
      }
    },
    {
      "cell_type": "code",
      "source": [
        "from trl import SFTTrainer\n",
        "from transformers import TrainingArguments\n",
        "from unsloth import is_bfloat16_supported\n",
        "\n",
        "trainer = SFTTrainer(\n",
        "    model=model,\n",
        "    tokenizer=tokenizer,\n",
        "    train_dataset=dataset,\n",
        "    dataset_text_field=\"text\",\n",
        "    max_seq_length=max_seq_length,\n",
        "    dataset_num_proc=2,\n",
        "    args=TrainingArguments(\n",
        "        per_device_train_batch_size=2,\n",
        "        gradient_accumulation_steps=4,\n",
        "        # Use num_train_epochs = 1, warmup_ratio for full training runs!\n",
        "        num_train_epochs = 1,\n",
        "        warmup_steps=5,\n",
        "        max_steps=60,\n",
        "        learning_rate=2e-4,\n",
        "        fp16=not is_bfloat16_supported(),\n",
        "        bf16=is_bfloat16_supported(),\n",
        "        logging_steps=10,\n",
        "        optim=\"adamw_8bit\",\n",
        "        weight_decay=0.01,\n",
        "        lr_scheduler_type=\"linear\",\n",
        "        seed=3407,\n",
        "        output_dir=\"outputs\",\n",
        "    ),\n",
        ")"
      ],
      "metadata": {
        "colab": {
          "base_uri": "https://localhost:8080/",
          "height": 49,
          "referenced_widgets": [
            "42df44571f984094b9f050f63b9dd98d",
            "31b888387e61496ab4803ee1a65342c3",
            "3f6fc88b992048d293f36f4a59ec26ab",
            "fee34f9439c845d9bc0f3dca41b99395",
            "bf487d69d1154cfca96c50e4d7c903c2",
            "92a8ba71c6d74f4d8133d854581a6fe2",
            "799e21798b05458a971ebf41ad720756",
            "5ccd8d8bef0e411a8b14156341791ce5",
            "ad62f6e643024cd7b8873845c41557f6",
            "94217363f5af41a38cc64e1a5dc9f390",
            "3655fd277796488ba078cdf2fe57aa76"
          ]
        },
        "id": "NfxgmNnQbRgJ",
        "outputId": "e0741686-ea5b-4ffe-9a8e-d8408383347a"
      },
      "execution_count": null,
      "outputs": [
        {
          "output_type": "display_data",
          "data": {
            "text/plain": [
              "Map (num_proc=2):   0%|          | 0/333 [00:00<?, ? examples/s]"
            ],
            "application/vnd.jupyter.widget-view+json": {
              "version_major": 2,
              "version_minor": 0,
              "model_id": "42df44571f984094b9f050f63b9dd98d"
            }
          },
          "metadata": {}
        }
      ]
    },
    {
      "cell_type": "markdown",
      "source": [
        "# Model `train`"
      ],
      "metadata": {
        "id": "oVs2MeLRd9mZ"
      }
    },
    {
      "cell_type": "code",
      "source": [
        "trainer_stats = trainer.train()"
      ],
      "metadata": {
        "colab": {
          "base_uri": "https://localhost:8080/",
          "height": 391
        },
        "id": "wtYnIazjd3xv",
        "outputId": "70aadc01-a81e-40f6-b568-ab1aacb93de0"
      },
      "execution_count": null,
      "outputs": [
        {
          "output_type": "stream",
          "name": "stderr",
          "text": [
            "==((====))==  Unsloth - 2x faster free finetuning | Num GPUs = 1\n",
            "   \\\\   /|    Num examples = 333 | Num Epochs = 2\n",
            "O^O/ \\_/ \\    Batch size per device = 2 | Gradient Accumulation steps = 4\n",
            "\\        /    Total batch size = 8 | Total steps = 60\n",
            " \"-____-\"     Number of trainable parameters = 41,943,040\n",
            "\u001b[34m\u001b[1mwandb\u001b[0m: \u001b[33mWARNING\u001b[0m The `run_name` is currently set to the same value as `TrainingArguments.output_dir`. If this was not intended, please specify a different run name by setting the `TrainingArguments.run_name` parameter.\n"
          ]
        },
        {
          "output_type": "display_data",
          "data": {
            "text/plain": [
              "<IPython.core.display.HTML object>"
            ],
            "text/html": [
              "\n",
              "    <div>\n",
              "      \n",
              "      <progress value='60' max='60' style='width:300px; height:20px; vertical-align: middle;'></progress>\n",
              "      [60/60 48:16, Epoch 1/2]\n",
              "    </div>\n",
              "    <table border=\"1\" class=\"dataframe\">\n",
              "  <thead>\n",
              " <tr style=\"text-align: left;\">\n",
              "      <th>Step</th>\n",
              "      <th>Training Loss</th>\n",
              "    </tr>\n",
              "  </thead>\n",
              "  <tbody>\n",
              "    <tr>\n",
              "      <td>10</td>\n",
              "      <td>1.148900</td>\n",
              "    </tr>\n",
              "    <tr>\n",
              "      <td>20</td>\n",
              "      <td>0.015000</td>\n",
              "    </tr>\n",
              "    <tr>\n",
              "      <td>30</td>\n",
              "      <td>0.005100</td>\n",
              "    </tr>\n",
              "    <tr>\n",
              "      <td>40</td>\n",
              "      <td>0.000700</td>\n",
              "    </tr>\n",
              "    <tr>\n",
              "      <td>50</td>\n",
              "      <td>0.000400</td>\n",
              "    </tr>\n",
              "    <tr>\n",
              "      <td>60</td>\n",
              "      <td>0.000000</td>\n",
              "    </tr>\n",
              "  </tbody>\n",
              "</table><p>"
            ]
          },
          "metadata": {}
        }
      ]
    },
    {
      "cell_type": "markdown",
      "source": [
        "# Model `inference` after fine-tuning"
      ],
      "metadata": {
        "id": "_mbaaBuCeIEK"
      }
    },
    {
      "cell_type": "code",
      "source": [
        "#question = \"Show that for a simple harmonic oscillator, the operator\\n\\n\\[\\nA(t) = mwx(t) \\cos \\omega t - p(t) \\sin \\omega t\\n\\]\\n\\nis independent of the time \\( t \\).\\n\\nCan this operator be simultaneously diagonalized with the Hamiltonian?\"\n",
        "question = \"explain the inference in quantum\"\n",
        "\n",
        "FastLanguageModel.for_inference(model)  # Unsloth has 2x faster inference!\n",
        "inputs = tokenizer([prompt_style.format(question, \"\")], return_tensors=\"pt\").to(\"cuda\")\n",
        "\n",
        "outputs = model.generate(\n",
        "    input_ids=inputs.input_ids,\n",
        "    attention_mask=inputs.attention_mask,\n",
        "    max_new_tokens=1200,\n",
        "    use_cache=True,\n",
        ")\n",
        "response = tokenizer.batch_decode(outputs)\n",
        "print(response[0].split(\"### Response:\")[1])\n"
      ],
      "metadata": {
        "colab": {
          "base_uri": "https://localhost:8080/"
        },
        "id": "wrLInThKd3o2",
        "outputId": "ad016de5-a709-4f62-9351-2295d55536c6"
      },
      "execution_count": null,
      "outputs": [
        {
          "output_type": "stream",
          "name": "stdout",
          "text": [
            "\n",
            "<think><think>\n",
            "\n",
            "</think>\n",
            "\n",
            "Alright, let's break down the problem step by step. First, we need to understand what the user is asking for. The user has provided a series of instructions that are nested within nested nested nested nested nested nested nested nested nested nested nested nested nested nested nested nested nested nested nested nested nested nested nested nested nested nested nested nested nested nested nested nested nested nested nested nested nested nested nested nested nested nested nested nested nested nested nested nested nested nested nested nested nested nested nested nested nested nested nested nested nested nested nested nested nested nested nested nested nested nested nested nested nested nested nested nested nested nested nested nested nested nested nested nested nested nested nested nested nested nested nested nested nested nested nested nested nested nested nested nested nested nested nested nested nested nested nested nested nested nested nested nested nested nested nested nested nested nested nested nested nested nested nested nested nested nested nested nested nested nested nested nested nested nested nested nested nested nested nested nested nested nested nested nested nested nested nested nested nested nested nested nested nested nested nested nested nested nested nested nested nested nested nested nested nested nested nested nested nested nested nested nested nested nested nested nested nested nested nested nested nested nested nested nested nested nested nested nested nested nested nested nested nested nested nested nested nested nested nested nested nested nested nested nested nested nested nested nested nested nested nested nested nested nested nested nested nested nested nested nested nested nested nested nested nested nested nested nested nested nested nested nested nested nested nested nested nested nested nested nested nested nested nested nested nested nested nested nested nested nested nested nested nested nested nested nested nested nested nested nested nested nested nested nested nested nested nested nested nested nested nested nested nested nested nested nested nested nested nested nested nested nested nested nested nested nested nested nested nested nested nested nested nested nested nested nested nested nested nested nested nested nested nested nested nested padded padded padded padded padded padded padded padded padded padded padded padded padded padded padded padded padded padded padded padded padded padded padded padded padded padded padded padded padded padded padded padded padded padded padded padded padded padded padded padded padded padded padded padded padded padded padded padded padded padded padded padded padded padded padded padded padded padded padded padded padded padded padded padded padded padded padded padded padded padded padded padded padded padded padded padded padded padded padded padded padded padded padded padded padded padded padded padded padded padded padded padded padded padded padded padded padded padded padded padded padded padded padded padded padded padded padded padded padded padded padded padded padded padded padded padded padded padded padded padded padded padded padded padded padded padded padded padded padded padded padded padded padded padded padded padded padded padded padded padded padded padded padded padded padded padded padded padded padded padded padded padded padded padded padded padded padded padded padded padded padded padded padded padded padded padded padded padded padded padded padded padded padded padded padded padded padded padded padded padded padded padded padded padded padded padded padded padded padded padded padded padded padded padded padded padded padded padded padded padded padded padded padded padded padded padded padded padded padded padded padded padded padded padded padded padded padded padded padded padded padded padded padded padded padded padded padded padded padded padded padded padded padded padded padded padded padded padded padded padded padded padded padded padded padded padded padded padded padded padded padded padded padded padded padded padded padded padded padded padded padded padded padded padded padded padded padded padded padded padded padded padded padded padded padded padded padded padded padded padded padded padded padded padded padded padded padded padded padded padded padded padded padded padded padded padded padded padded padded padded padded padded padded padded padded padded padded padded padded padded padded padded padded padded padded padded padded padded padded padded padded padded padded padded padded padded padded padded padded padded padded padded padded padded padded padded padded padded padded padded padded padded padded padded padded padded padded padded padded padded padded padded padded padded padded padded padded padded padded padded padded padded padded padded padded padded padded padded padded padded padded padded padded padded padded padded padded padded padded padded padded padded padded padded padded padded padded padded padded padded padded padded padded padded padded padded padded padded padded padded padded padded padded padded padded padded padded padded padded padded padded padded padded padded padded padded padded padded padded padded padded padded padded padded padded padded padded padded padded padded padded padded padded padded padded padded padded padded padded padded padded padded padded padded padded padded padded padded padded padded padded padded padded padded padded padded padded padded padded padded padded padded padded padded padded padded padded padded padded padded padded padded padded padded padded padded padded padded padded padded padded padded padded padded padded padded padded padded padded padded padded padded padded padded padded padded padded padded padded padded padded padded padded padded padded padded padded padded padded padded padded padded padded padded padded padded padded padded padded padded padded padded padded padded padded padded padded padded padded padded padded padded padded padded padded padded padded padded padded padded padded padded padded padded padded padded padded padded padded padded padded padded padded padded padded padded padded padded padded padded padded padded padded padded padded padded padded padded padded padded padded padded padded padded padded padded padded padded padded padded padded padded padded padded padded padded padded padded padded padded padded padded padded padded padded padded padded padded padded padded padded padded padded padded padded padded padded padded padded padded padded padded padded padded padded padded padded padded padded padded padded padded padded padded padded padded padded padded padded padded padded padded padded padded padded padded padded padded padded padded padded padded padded padded padded padded padded padded padded padded padded padded padded padded padded padded padded padded padded padded padded padded padded padded padded padded padded padded padded padded padded padded padded padded padded padded padded padded padded padded padded padded padded padded padded padded padded padded padded padded padded padded padded padded padded padded padded padded padded padded padded padded padded padded padded padded padded padded padded padded padded padded padded padded padded padded padded padded padded padded padded padded padded padded padded padded padded padded padded padded padded padded padded padded padded padded padded padded padded padded padded padded padded padded padded padded padded padded padded padded padded padded padded padded padded padded padded padded padded padded padded padded padded padded padded padded padded padded padded padded padded padded padded padded padded padded padded padded padded padded padded padded padded padded padded padded padded padded padded padded padded padded padded padded padded padded padded padded padded padded padded padded padded padded padded padded padded padded padded padded padded padded padded padded padded padded padded padded padded padded padded padded padded padded padded padded padded padded padded padded padded padded padded padded padded padded padded padded padded padded padded padded padded padded padded padded padded padded padded padded padded padded padded padded\n"
          ]
        }
      ]
    },
    {
      "cell_type": "markdown",
      "source": [
        "# `Save Model` : to `Huggingface` Hub"
      ],
      "metadata": {
        "id": "pQHWVl0IeyR1"
      }
    },
    {
      "cell_type": "code",
      "source": [
        "new_model_online = \"0xZee/DeepSeek-R1-8b-ft-QuantumMechanics-CoT\"\n",
        "model.push_to_hub(new_model_online)\n",
        "tokenizer.push_to_hub(new_model_online)\n",
        "\n",
        "model.push_to_hub_merged(new_model_online, tokenizer, save_method = \"merged_16bit\")"
      ],
      "metadata": {
        "id": "__D6CA6Cv0Q7"
      },
      "execution_count": null,
      "outputs": []
    },
    {
      "cell_type": "markdown",
      "source": [
        "# `Save` : Local"
      ],
      "metadata": {
        "id": "WAtxHYvzeoat"
      }
    },
    {
      "cell_type": "code",
      "source": [
        "new_model_local = \"DeepSeek-R1-Medical-COT\"\n",
        "model.save_pretrained(new_model_local)\n",
        "tokenizer.save_pretrained(new_model_local)\n",
        "\n",
        "#model.save_pretrained_merged(new_model_local, tokenizer, save_method = \"merged_16bit\",)"
      ],
      "metadata": {
        "id": "tukqqUwsxRD9"
      },
      "execution_count": null,
      "outputs": []
    },
    {
      "cell_type": "code",
      "source": [],
      "metadata": {
        "id": "TXeIAMDiv0OH"
      },
      "execution_count": null,
      "outputs": []
    },
    {
      "cell_type": "code",
      "source": [
        "####"
      ],
      "metadata": {
        "id": "AePSmTrYn_NT"
      },
      "execution_count": null,
      "outputs": []
    }
  ]
}